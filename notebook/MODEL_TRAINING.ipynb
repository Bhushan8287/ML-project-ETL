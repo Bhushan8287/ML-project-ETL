{
 "cells": [
  {
   "cell_type": "code",
   "execution_count": 1,
   "metadata": {},
   "outputs": [],
   "source": [
    "import numpy as np\n",
    "import pandas as pd\n",
    "import matplotlib.pyplot as plt\n",
    "import seaborn as sns\n",
    "import json\n",
    "from joblib import dump, load\n",
    "import mlflow\n",
    "import mlflow.sklearn\n",
    "from mlflow.models.signature import infer_signature\n",
    "from sklearn.model_selection import train_test_split, cross_val_score, KFold, GridSearchCV\n",
    "from sklearn.preprocessing import StandardScaler, MinMaxScaler, RobustScaler, PolynomialFeatures\n",
    "from sklearn.linear_model import LinearRegression, Ridge, Lasso, ElasticNet\n",
    "from sklearn.tree import DecisionTreeRegressor\n",
    "from sklearn.ensemble import RandomForestRegressor\n",
    "from sklearn.svm import SVR\n",
    "from sklearn.neighbors import KNeighborsRegressor\n",
    "from xgboost import XGBRegressor\n",
    "from sklearn.metrics import mean_squared_error, r2_score, mean_absolute_error"
   ]
  },
  {
   "cell_type": "code",
   "execution_count": 2,
   "metadata": {},
   "outputs": [],
   "source": [
    "mlflow.set_tracking_uri(\"file:///C:/Users/BW/Desktop/ML project/notebook/mlruns\")"
   ]
  },
  {
   "cell_type": "markdown",
   "metadata": {},
   "source": [
    "### **Loading the dataset**"
   ]
  },
  {
   "cell_type": "code",
   "execution_count": 3,
   "metadata": {},
   "outputs": [
    {
     "data": {
      "text/html": [
       "<div>\n",
       "<style scoped>\n",
       "    .dataframe tbody tr th:only-of-type {\n",
       "        vertical-align: middle;\n",
       "    }\n",
       "\n",
       "    .dataframe tbody tr th {\n",
       "        vertical-align: top;\n",
       "    }\n",
       "\n",
       "    .dataframe thead th {\n",
       "        text-align: right;\n",
       "    }\n",
       "</style>\n",
       "<table border=\"1\" class=\"dataframe\">\n",
       "  <thead>\n",
       "    <tr style=\"text-align: right;\">\n",
       "      <th></th>\n",
       "      <th>Number_of_Customers_Per_Day</th>\n",
       "      <th>Average_Order_Value</th>\n",
       "      <th>Operating_Hours_Per_Day</th>\n",
       "      <th>Number_of_Employees</th>\n",
       "      <th>Marketing_Spend_Per_Day</th>\n",
       "      <th>Location_Foot_Traffic</th>\n",
       "      <th>Daily_Revenue</th>\n",
       "    </tr>\n",
       "  </thead>\n",
       "  <tbody>\n",
       "    <tr>\n",
       "      <th>0</th>\n",
       "      <td>152</td>\n",
       "      <td>6.74</td>\n",
       "      <td>14</td>\n",
       "      <td>4</td>\n",
       "      <td>106.62</td>\n",
       "      <td>97</td>\n",
       "      <td>1547.81</td>\n",
       "    </tr>\n",
       "    <tr>\n",
       "      <th>1</th>\n",
       "      <td>485</td>\n",
       "      <td>4.50</td>\n",
       "      <td>12</td>\n",
       "      <td>8</td>\n",
       "      <td>57.83</td>\n",
       "      <td>744</td>\n",
       "      <td>2084.68</td>\n",
       "    </tr>\n",
       "    <tr>\n",
       "      <th>2</th>\n",
       "      <td>398</td>\n",
       "      <td>9.09</td>\n",
       "      <td>6</td>\n",
       "      <td>6</td>\n",
       "      <td>91.76</td>\n",
       "      <td>636</td>\n",
       "      <td>3118.39</td>\n",
       "    </tr>\n",
       "    <tr>\n",
       "      <th>3</th>\n",
       "      <td>320</td>\n",
       "      <td>8.48</td>\n",
       "      <td>17</td>\n",
       "      <td>4</td>\n",
       "      <td>462.63</td>\n",
       "      <td>770</td>\n",
       "      <td>2912.20</td>\n",
       "    </tr>\n",
       "    <tr>\n",
       "      <th>4</th>\n",
       "      <td>156</td>\n",
       "      <td>7.44</td>\n",
       "      <td>17</td>\n",
       "      <td>2</td>\n",
       "      <td>412.52</td>\n",
       "      <td>232</td>\n",
       "      <td>1663.42</td>\n",
       "    </tr>\n",
       "  </tbody>\n",
       "</table>\n",
       "</div>"
      ],
      "text/plain": [
       "   Number_of_Customers_Per_Day  Average_Order_Value  Operating_Hours_Per_Day  \\\n",
       "0                          152                 6.74                       14   \n",
       "1                          485                 4.50                       12   \n",
       "2                          398                 9.09                        6   \n",
       "3                          320                 8.48                       17   \n",
       "4                          156                 7.44                       17   \n",
       "\n",
       "   Number_of_Employees  Marketing_Spend_Per_Day  Location_Foot_Traffic  \\\n",
       "0                    4                   106.62                     97   \n",
       "1                    8                    57.83                    744   \n",
       "2                    6                    91.76                    636   \n",
       "3                    4                   462.63                    770   \n",
       "4                    2                   412.52                    232   \n",
       "\n",
       "   Daily_Revenue  \n",
       "0        1547.81  \n",
       "1        2084.68  \n",
       "2        3118.39  \n",
       "3        2912.20  \n",
       "4        1663.42  "
      ]
     },
     "execution_count": 3,
     "metadata": {},
     "output_type": "execute_result"
    }
   ],
   "source": [
    "data = pd.read_csv('coffee_shop_revenue.csv')\n",
    "data.head()"
   ]
  },
  {
   "cell_type": "code",
   "execution_count": 4,
   "metadata": {},
   "outputs": [
    {
     "data": {
      "text/plain": [
       "(2000, 7)"
      ]
     },
     "execution_count": 4,
     "metadata": {},
     "output_type": "execute_result"
    }
   ],
   "source": [
    "data.shape"
   ]
  },
  {
   "cell_type": "code",
   "execution_count": 5,
   "metadata": {},
   "outputs": [
    {
     "name": "stdout",
     "output_type": "stream",
     "text": [
      "<class 'pandas.core.frame.DataFrame'>\n",
      "RangeIndex: 2000 entries, 0 to 1999\n",
      "Data columns (total 7 columns):\n",
      " #   Column                       Non-Null Count  Dtype  \n",
      "---  ------                       --------------  -----  \n",
      " 0   Number_of_Customers_Per_Day  2000 non-null   int64  \n",
      " 1   Average_Order_Value          2000 non-null   float64\n",
      " 2   Operating_Hours_Per_Day      2000 non-null   int64  \n",
      " 3   Number_of_Employees          2000 non-null   int64  \n",
      " 4   Marketing_Spend_Per_Day      2000 non-null   float64\n",
      " 5   Location_Foot_Traffic        2000 non-null   int64  \n",
      " 6   Daily_Revenue                2000 non-null   float64\n",
      "dtypes: float64(3), int64(4)\n",
      "memory usage: 109.5 KB\n"
     ]
    }
   ],
   "source": [
    "data.info()"
   ]
  },
  {
   "cell_type": "code",
   "execution_count": 6,
   "metadata": {},
   "outputs": [
    {
     "data": {
      "text/html": [
       "<div>\n",
       "<style scoped>\n",
       "    .dataframe tbody tr th:only-of-type {\n",
       "        vertical-align: middle;\n",
       "    }\n",
       "\n",
       "    .dataframe tbody tr th {\n",
       "        vertical-align: top;\n",
       "    }\n",
       "\n",
       "    .dataframe thead th {\n",
       "        text-align: right;\n",
       "    }\n",
       "</style>\n",
       "<table border=\"1\" class=\"dataframe\">\n",
       "  <thead>\n",
       "    <tr style=\"text-align: right;\">\n",
       "      <th></th>\n",
       "      <th>Number_of_Customers_Per_Day</th>\n",
       "      <th>Average_Order_Value</th>\n",
       "      <th>Operating_Hours_Per_Day</th>\n",
       "      <th>Number_of_Employees</th>\n",
       "      <th>Marketing_Spend_Per_Day</th>\n",
       "      <th>Location_Foot_Traffic</th>\n",
       "      <th>Daily_Revenue</th>\n",
       "    </tr>\n",
       "  </thead>\n",
       "  <tbody>\n",
       "    <tr>\n",
       "      <th>count</th>\n",
       "      <td>2000.000000</td>\n",
       "      <td>2000.000000</td>\n",
       "      <td>2000.000000</td>\n",
       "      <td>2000.000000</td>\n",
       "      <td>2000.000000</td>\n",
       "      <td>2000.000000</td>\n",
       "      <td>2000.000000</td>\n",
       "    </tr>\n",
       "    <tr>\n",
       "      <th>mean</th>\n",
       "      <td>274.296000</td>\n",
       "      <td>6.261215</td>\n",
       "      <td>11.667000</td>\n",
       "      <td>7.947000</td>\n",
       "      <td>252.614160</td>\n",
       "      <td>534.893500</td>\n",
       "      <td>1917.325940</td>\n",
       "    </tr>\n",
       "    <tr>\n",
       "      <th>std</th>\n",
       "      <td>129.441933</td>\n",
       "      <td>2.175832</td>\n",
       "      <td>3.438608</td>\n",
       "      <td>3.742218</td>\n",
       "      <td>141.136004</td>\n",
       "      <td>271.662295</td>\n",
       "      <td>976.202746</td>\n",
       "    </tr>\n",
       "    <tr>\n",
       "      <th>min</th>\n",
       "      <td>50.000000</td>\n",
       "      <td>2.500000</td>\n",
       "      <td>6.000000</td>\n",
       "      <td>2.000000</td>\n",
       "      <td>10.120000</td>\n",
       "      <td>50.000000</td>\n",
       "      <td>-58.950000</td>\n",
       "    </tr>\n",
       "    <tr>\n",
       "      <th>25%</th>\n",
       "      <td>164.000000</td>\n",
       "      <td>4.410000</td>\n",
       "      <td>9.000000</td>\n",
       "      <td>5.000000</td>\n",
       "      <td>130.125000</td>\n",
       "      <td>302.000000</td>\n",
       "      <td>1140.085000</td>\n",
       "    </tr>\n",
       "    <tr>\n",
       "      <th>50%</th>\n",
       "      <td>275.000000</td>\n",
       "      <td>6.300000</td>\n",
       "      <td>12.000000</td>\n",
       "      <td>8.000000</td>\n",
       "      <td>250.995000</td>\n",
       "      <td>540.000000</td>\n",
       "      <td>1770.775000</td>\n",
       "    </tr>\n",
       "    <tr>\n",
       "      <th>75%</th>\n",
       "      <td>386.000000</td>\n",
       "      <td>8.120000</td>\n",
       "      <td>15.000000</td>\n",
       "      <td>11.000000</td>\n",
       "      <td>375.352500</td>\n",
       "      <td>767.000000</td>\n",
       "      <td>2530.455000</td>\n",
       "    </tr>\n",
       "    <tr>\n",
       "      <th>max</th>\n",
       "      <td>499.000000</td>\n",
       "      <td>10.000000</td>\n",
       "      <td>17.000000</td>\n",
       "      <td>14.000000</td>\n",
       "      <td>499.740000</td>\n",
       "      <td>999.000000</td>\n",
       "      <td>5114.600000</td>\n",
       "    </tr>\n",
       "  </tbody>\n",
       "</table>\n",
       "</div>"
      ],
      "text/plain": [
       "       Number_of_Customers_Per_Day  Average_Order_Value  \\\n",
       "count                  2000.000000          2000.000000   \n",
       "mean                    274.296000             6.261215   \n",
       "std                     129.441933             2.175832   \n",
       "min                      50.000000             2.500000   \n",
       "25%                     164.000000             4.410000   \n",
       "50%                     275.000000             6.300000   \n",
       "75%                     386.000000             8.120000   \n",
       "max                     499.000000            10.000000   \n",
       "\n",
       "       Operating_Hours_Per_Day  Number_of_Employees  Marketing_Spend_Per_Day  \\\n",
       "count              2000.000000          2000.000000              2000.000000   \n",
       "mean                 11.667000             7.947000               252.614160   \n",
       "std                   3.438608             3.742218               141.136004   \n",
       "min                   6.000000             2.000000                10.120000   \n",
       "25%                   9.000000             5.000000               130.125000   \n",
       "50%                  12.000000             8.000000               250.995000   \n",
       "75%                  15.000000            11.000000               375.352500   \n",
       "max                  17.000000            14.000000               499.740000   \n",
       "\n",
       "       Location_Foot_Traffic  Daily_Revenue  \n",
       "count            2000.000000    2000.000000  \n",
       "mean              534.893500    1917.325940  \n",
       "std               271.662295     976.202746  \n",
       "min                50.000000     -58.950000  \n",
       "25%               302.000000    1140.085000  \n",
       "50%               540.000000    1770.775000  \n",
       "75%               767.000000    2530.455000  \n",
       "max               999.000000    5114.600000  "
      ]
     },
     "execution_count": 6,
     "metadata": {},
     "output_type": "execute_result"
    }
   ],
   "source": [
    "data.describe()"
   ]
  },
  {
   "cell_type": "code",
   "execution_count": 7,
   "metadata": {},
   "outputs": [
    {
     "data": {
      "text/plain": [
       "Number_of_Customers_Per_Day    0\n",
       "Average_Order_Value            0\n",
       "Operating_Hours_Per_Day        0\n",
       "Number_of_Employees            0\n",
       "Marketing_Spend_Per_Day        0\n",
       "Location_Foot_Traffic          0\n",
       "Daily_Revenue                  0\n",
       "dtype: int64"
      ]
     },
     "execution_count": 7,
     "metadata": {},
     "output_type": "execute_result"
    }
   ],
   "source": [
    "data.isnull().sum()"
   ]
  },
  {
   "cell_type": "markdown",
   "metadata": {},
   "source": [
    "### **Model training to get baseline metrics**"
   ]
  },
  {
   "cell_type": "code",
   "execution_count": null,
   "metadata": {},
   "outputs": [],
   "source": [
    "models_dict = {\n",
    "    \"LinearRegression\": LinearRegression(),\n",
    "    \"Ridge\": Ridge(),\n",
    "    \"Lasso\": Lasso(),\n",
    "    \"ElasticNet\": ElasticNet(),\n",
    "    \"DecisionTreeRegressor\": DecisionTreeRegressor(),\n",
    "    \"RandomForestRegressor\": RandomForestRegressor(),\n",
    "    \"SVR\": SVR(),\n",
    "    \"XGBoostRegressor\": XGBRegressor(),\n",
    "    \"KNN\": KNeighborsRegressor()\n",
    "}\n",
    "\n",
    "def get_baseline_metrics(models_dict, xtrain, ytrain, experiment_name):\n",
    "    cv_type = KFold(n_splits=5, shuffle=True, random_state=3)\n",
    "    mlflow.set_experiment(experiment_name)\n",
    "\n",
    "    for model_name, model in models_dict.items():\n",
    "        print(f\"Training model: {model_name}\")\n",
    "        with mlflow.start_run(run_name=model_name):\n",
    "            r2_mean = np.mean(cross_val_score(model, xtrain, ytrain, cv=cv_type, scoring='r2'))\n",
    "            mae_mean = -np.mean(cross_val_score(model, xtrain, ytrain, cv=cv_type, scoring='neg_mean_absolute_error'))\n",
    "            rmse_mean = -np.mean(cross_val_score(model, xtrain, ytrain, cv=cv_type, scoring='neg_root_mean_squared_error'))\n",
    "\n",
    "            mlflow.log_param(\"CV_Type\", \"KFold\")\n",
    "            mlflow.log_param(\"CV_n_splits\", cv_type.n_splits)\n",
    "            mlflow.log_param(\"CV_shuffle\", cv_type.shuffle)\n",
    "            mlflow.log_param(\"CV_random_state\", cv_type.random_state)\n",
    "\n",
    "            mlflow.log_param(\"Model_Name\", model_name)\n",
    "            mlflow.log_metric(\"R2_score\", round(r2_mean, 4))\n",
    "            mlflow.log_metric(\"MAE\", round(mae_mean, 4))\n",
    "            mlflow.log_metric(\"RMSE\", round(rmse_mean, 4))\n",
    "\n",
    "            print(f\"R2 Score: {r2_mean:.4f}\")\n",
    "            print(f\"MAE: {mae_mean:.4f}\")\n",
    "            print(f\"RMSE: {rmse_mean:.4f}\")\n",
    "            print('-' * 35)"
   ]
  },
  {
   "cell_type": "code",
   "execution_count": 9,
   "metadata": {},
   "outputs": [],
   "source": [
    "# Function to get metrics\n",
    "def get_metrics(ytest, ypred):\n",
    "    r2 = r2_score(ytest, ypred)\n",
    "    mae = mean_absolute_error(ytest, ypred)\n",
    "    rmse = np.sqrt(mean_squared_error(ytest, ypred))\n",
    "    print(f\"R2 score: {r2}\")\n",
    "    print(f\"MAE: {mae}\")\n",
    "    print(f\"RMSE: {rmse}\")"
   ]
  },
  {
   "cell_type": "code",
   "execution_count": 10,
   "metadata": {},
   "outputs": [],
   "source": [
    "# Splitting  the dataset\n",
    "x = data.drop(columns='Daily_Revenue')\n",
    "y = data['Daily_Revenue']\n",
    "\n",
    "xtrain, xtest, ytrain, ytest = train_test_split(x, y, test_size=0.2, random_state=2)"
   ]
  },
  {
   "cell_type": "code",
   "execution_count": 11,
   "metadata": {},
   "outputs": [
    {
     "data": {
      "text/plain": [
       "(1600, 6)"
      ]
     },
     "execution_count": 11,
     "metadata": {},
     "output_type": "execute_result"
    }
   ],
   "source": [
    "xtrain.shape"
   ]
  },
  {
   "cell_type": "markdown",
   "metadata": {},
   "source": [
    "### **Getting**"
   ]
  },
  {
   "cell_type": "code",
   "execution_count": 12,
   "metadata": {},
   "outputs": [
    {
     "name": "stderr",
     "output_type": "stream",
     "text": [
      "2025/04/03 11:36:42 INFO mlflow.tracking.fluent: Experiment with name 'Baseline metrics using Kfold cv (train splits only)' does not exist. Creating a new experiment.\n"
     ]
    },
    {
     "name": "stdout",
     "output_type": "stream",
     "text": [
      "Training model: LinearRegression\n",
      "R2 Score: 0.8899\n",
      "MAE: 254.3337\n",
      "RMSE: 322.8229\n",
      "-----------------------------------\n",
      "Training model: Ridge\n",
      "R2 Score: 0.8899\n",
      "MAE: 254.3352\n",
      "RMSE: 322.8226\n",
      "-----------------------------------\n",
      "Training model: Lasso\n",
      "R2 Score: 0.8899\n",
      "MAE: 254.3367\n",
      "RMSE: 322.8074\n",
      "-----------------------------------\n",
      "Training model: ElasticNet\n",
      "R2 Score: 0.8872\n",
      "MAE: 257.1948\n",
      "RMSE: 326.6081\n",
      "-----------------------------------\n",
      "Training model: DecisionTreeRegressor\n",
      "R2 Score: 0.8769\n",
      "MAE: 275.3707\n",
      "RMSE: 342.0766\n",
      "-----------------------------------\n",
      "Training model: RandomForestRegressor\n",
      "R2 Score: 0.9412\n",
      "MAE: 188.2082\n",
      "RMSE: 234.3118\n",
      "-----------------------------------\n",
      "Training model: SVR\n",
      "R2 Score: 0.0465\n",
      "MAE: 758.9373\n",
      "RMSE: 952.5776\n",
      "-----------------------------------\n",
      "Training model: XGBoostRegressor\n",
      "R2 Score: 0.9362\n",
      "MAE: 195.5885\n",
      "RMSE: 245.4415\n",
      "-----------------------------------\n",
      "Training model: KNN\n",
      "R2 Score: 0.5278\n",
      "MAE: 527.6643\n",
      "RMSE: 668.3486\n",
      "-----------------------------------\n"
     ]
    }
   ],
   "source": [
    "get_baseline_metrics(models_dict, xtrain, ytrain, 'Baseline metrics using Kfold cv (train splits only)')"
   ]
  },
  {
   "cell_type": "markdown",
   "metadata": {},
   "source": [
    "- **From the EDA correlation analysis, only 3 features show good to weak correlation with the target variable. To evaluate potential improvement, models will be tested using only these 3 correlated features while excluding the remaining ones.**"
   ]
  },
  {
   "cell_type": "code",
   "execution_count": 13,
   "metadata": {},
   "outputs": [],
   "source": [
    "xtrain_dropped_feat = xtrain.drop(columns=['Operating_Hours_Per_Day', 'Location_Foot_Traffic', 'Number_of_Employees'])\n",
    "xtest_dropped_feat = xtest.drop(columns=['Operating_Hours_Per_Day', 'Location_Foot_Traffic', 'Number_of_Employees'])"
   ]
  },
  {
   "cell_type": "code",
   "execution_count": 14,
   "metadata": {},
   "outputs": [
    {
     "data": {
      "text/html": [
       "<div>\n",
       "<style scoped>\n",
       "    .dataframe tbody tr th:only-of-type {\n",
       "        vertical-align: middle;\n",
       "    }\n",
       "\n",
       "    .dataframe tbody tr th {\n",
       "        vertical-align: top;\n",
       "    }\n",
       "\n",
       "    .dataframe thead th {\n",
       "        text-align: right;\n",
       "    }\n",
       "</style>\n",
       "<table border=\"1\" class=\"dataframe\">\n",
       "  <thead>\n",
       "    <tr style=\"text-align: right;\">\n",
       "      <th></th>\n",
       "      <th>Number_of_Customers_Per_Day</th>\n",
       "      <th>Average_Order_Value</th>\n",
       "      <th>Marketing_Spend_Per_Day</th>\n",
       "    </tr>\n",
       "  </thead>\n",
       "  <tbody>\n",
       "    <tr>\n",
       "      <th>333</th>\n",
       "      <td>196</td>\n",
       "      <td>8.56</td>\n",
       "      <td>417.65</td>\n",
       "    </tr>\n",
       "    <tr>\n",
       "      <th>721</th>\n",
       "      <td>102</td>\n",
       "      <td>9.89</td>\n",
       "      <td>247.26</td>\n",
       "    </tr>\n",
       "  </tbody>\n",
       "</table>\n",
       "</div>"
      ],
      "text/plain": [
       "     Number_of_Customers_Per_Day  Average_Order_Value  Marketing_Spend_Per_Day\n",
       "333                          196                 8.56                   417.65\n",
       "721                          102                 9.89                   247.26"
      ]
     },
     "execution_count": 14,
     "metadata": {},
     "output_type": "execute_result"
    }
   ],
   "source": [
    "xtrain_dropped_feat.head(2)"
   ]
  },
  {
   "cell_type": "code",
   "execution_count": 15,
   "metadata": {},
   "outputs": [
    {
     "data": {
      "text/html": [
       "<div>\n",
       "<style scoped>\n",
       "    .dataframe tbody tr th:only-of-type {\n",
       "        vertical-align: middle;\n",
       "    }\n",
       "\n",
       "    .dataframe tbody tr th {\n",
       "        vertical-align: top;\n",
       "    }\n",
       "\n",
       "    .dataframe thead th {\n",
       "        text-align: right;\n",
       "    }\n",
       "</style>\n",
       "<table border=\"1\" class=\"dataframe\">\n",
       "  <thead>\n",
       "    <tr style=\"text-align: right;\">\n",
       "      <th></th>\n",
       "      <th>Number_of_Customers_Per_Day</th>\n",
       "      <th>Average_Order_Value</th>\n",
       "      <th>Marketing_Spend_Per_Day</th>\n",
       "    </tr>\n",
       "  </thead>\n",
       "  <tbody>\n",
       "    <tr>\n",
       "      <th>278</th>\n",
       "      <td>421</td>\n",
       "      <td>6.30</td>\n",
       "      <td>87.03</td>\n",
       "    </tr>\n",
       "    <tr>\n",
       "      <th>492</th>\n",
       "      <td>239</td>\n",
       "      <td>4.26</td>\n",
       "      <td>192.94</td>\n",
       "    </tr>\n",
       "  </tbody>\n",
       "</table>\n",
       "</div>"
      ],
      "text/plain": [
       "     Number_of_Customers_Per_Day  Average_Order_Value  Marketing_Spend_Per_Day\n",
       "278                          421                 6.30                    87.03\n",
       "492                          239                 4.26                   192.94"
      ]
     },
     "execution_count": 15,
     "metadata": {},
     "output_type": "execute_result"
    }
   ],
   "source": [
    "xtest_dropped_feat.head(2)"
   ]
  },
  {
   "cell_type": "code",
   "execution_count": 18,
   "metadata": {},
   "outputs": [
    {
     "name": "stderr",
     "output_type": "stream",
     "text": [
      "2025/04/03 11:41:59 INFO mlflow.tracking.fluent: Experiment with name 'Baseline Metrics with Key Features' does not exist. Creating a new experiment.\n"
     ]
    },
    {
     "name": "stdout",
     "output_type": "stream",
     "text": [
      "Training model: LinearRegression\n",
      "R2 Score: 0.8904\n",
      "MAE: 253.8684\n",
      "RMSE: 322.0398\n",
      "-----------------------------------\n",
      "Training model: Ridge\n",
      "R2 Score: 0.8904\n",
      "MAE: 253.8697\n",
      "RMSE: 322.0398\n",
      "-----------------------------------\n",
      "Training model: Lasso\n",
      "R2 Score: 0.8904\n",
      "MAE: 253.8754\n",
      "RMSE: 322.0401\n",
      "-----------------------------------\n",
      "Training model: ElasticNet\n",
      "R2 Score: 0.8876\n",
      "MAE: 256.8567\n",
      "RMSE: 325.9796\n",
      "-----------------------------------\n",
      "Training model: DecisionTreeRegressor\n",
      "R2 Score: 0.8910\n",
      "MAE: 257.5377\n",
      "RMSE: 317.0300\n",
      "-----------------------------------\n",
      "Training model: RandomForestRegressor\n",
      "R2 Score: 0.9439\n",
      "MAE: 186.4513\n",
      "RMSE: 232.4030\n",
      "-----------------------------------\n",
      "Training model: SVR\n",
      "R2 Score: 0.1466\n",
      "MAE: 712.5067\n",
      "RMSE: 901.1858\n",
      "-----------------------------------\n",
      "Training model: XGBoostRegressor\n",
      "R2 Score: 0.9374\n",
      "MAE: 195.9694\n",
      "RMSE: 243.2057\n",
      "-----------------------------------\n",
      "Training model: KNN\n",
      "R2 Score: 0.5432\n",
      "MAE: 515.5839\n",
      "RMSE: 656.5906\n",
      "-----------------------------------\n"
     ]
    }
   ],
   "source": [
    "get_baseline_metrics(models_dict, xtrain_dropped_feat, ytrain, 'Baseline Metrics with Key Features')"
   ]
  },
  {
   "cell_type": "markdown",
   "metadata": {},
   "source": [
    "### **Baseline Metrics Analysis**\n",
    "\n",
    "To assess the impact of feature selection, i compared the baseline metrics before and after dropping three low-correlation features:  \n",
    "- **Operating_Hours_Per_Day** (-0.0053 correlation)  \n",
    "- **Number_of_Employees** (0.0033 correlation)  \n",
    "- **Location_Foot_Traffic** (0.0134 correlation)  \n",
    "\n",
    "#### **Key Observations:**\n",
    "**Slight Improvement in Linear Models:**  \n",
    "- R² for **LinearRegression, Ridge, and Lasso** improved slightly (~0.0005).  \n",
    "- **MAE and RMSE** slightly decreased, indicating better predictions.  \n",
    "\n",
    "**DecisionTreeRegressor Performed Better:**  \n",
    "- R² improved from **0.8769 → 0.8910**, and RMSE decreased.  \n",
    "\n",
    "**RandomForest and XGBoost Still Strong Performers:**  \n",
    "- **RandomForest R²:** **0.9412 → 0.9439**  \n",
    "- **XGBoost R²:** **0.9362 → 0.9374**  \n",
    "- MAE and RMSE improved slightly.  \n",
    "\n",
    "**SVR and KNN Still Weak Models:**  \n",
    "- **SVR improved slightly** but remains ineffective (low R², high MAE).  \n",
    "- **KNN improved marginally**, but its performance is still subpar.  \n",
    "\n",
    "#### **Conclusion:**\n",
    "Removing low-impact features resulted in a **slight performance boost** across most models, particularly **Linear Regression, Decision Tree, and Ensemble Models (Random Forest & XGBoost)**. These results justify **feature selection** as a valuable preprocessing step before model tuning."
   ]
  },
  {
   "cell_type": "markdown",
   "metadata": {},
   "source": [
    "## "
   ]
  },
  {
   "cell_type": "code",
   "execution_count": 43,
   "metadata": {},
   "outputs": [
    {
     "data": {
      "text/html": [
       "<div>\n",
       "<style scoped>\n",
       "    .dataframe tbody tr th:only-of-type {\n",
       "        vertical-align: middle;\n",
       "    }\n",
       "\n",
       "    .dataframe tbody tr th {\n",
       "        vertical-align: top;\n",
       "    }\n",
       "\n",
       "    .dataframe thead th {\n",
       "        text-align: right;\n",
       "    }\n",
       "</style>\n",
       "<table border=\"1\" class=\"dataframe\">\n",
       "  <thead>\n",
       "    <tr style=\"text-align: right;\">\n",
       "      <th></th>\n",
       "      <th>Number_of_Customers_Per_Day</th>\n",
       "      <th>Average_Order_Value</th>\n",
       "      <th>Marketing_Spend_Per_Day</th>\n",
       "    </tr>\n",
       "  </thead>\n",
       "  <tbody>\n",
       "    <tr>\n",
       "      <th>333</th>\n",
       "      <td>196</td>\n",
       "      <td>8.56</td>\n",
       "      <td>417.65</td>\n",
       "    </tr>\n",
       "    <tr>\n",
       "      <th>721</th>\n",
       "      <td>102</td>\n",
       "      <td>9.89</td>\n",
       "      <td>247.26</td>\n",
       "    </tr>\n",
       "    <tr>\n",
       "      <th>1352</th>\n",
       "      <td>343</td>\n",
       "      <td>6.19</td>\n",
       "      <td>282.79</td>\n",
       "    </tr>\n",
       "    <tr>\n",
       "      <th>1680</th>\n",
       "      <td>95</td>\n",
       "      <td>4.17</td>\n",
       "      <td>338.11</td>\n",
       "    </tr>\n",
       "    <tr>\n",
       "      <th>156</th>\n",
       "      <td>54</td>\n",
       "      <td>7.80</td>\n",
       "      <td>185.78</td>\n",
       "    </tr>\n",
       "  </tbody>\n",
       "</table>\n",
       "</div>"
      ],
      "text/plain": [
       "      Number_of_Customers_Per_Day  Average_Order_Value  \\\n",
       "333                           196                 8.56   \n",
       "721                           102                 9.89   \n",
       "1352                          343                 6.19   \n",
       "1680                           95                 4.17   \n",
       "156                            54                 7.80   \n",
       "\n",
       "      Marketing_Spend_Per_Day  \n",
       "333                    417.65  \n",
       "721                    247.26  \n",
       "1352                   282.79  \n",
       "1680                   338.11  \n",
       "156                    185.78  "
      ]
     },
     "execution_count": 43,
     "metadata": {},
     "output_type": "execute_result"
    }
   ],
   "source": [
    "xtrain_dropped_feat.head()"
   ]
  },
  {
   "cell_type": "code",
   "execution_count": 44,
   "metadata": {},
   "outputs": [
    {
     "data": {
      "text/html": [
       "<div>\n",
       "<style scoped>\n",
       "    .dataframe tbody tr th:only-of-type {\n",
       "        vertical-align: middle;\n",
       "    }\n",
       "\n",
       "    .dataframe tbody tr th {\n",
       "        vertical-align: top;\n",
       "    }\n",
       "\n",
       "    .dataframe thead th {\n",
       "        text-align: right;\n",
       "    }\n",
       "</style>\n",
       "<table border=\"1\" class=\"dataframe\">\n",
       "  <thead>\n",
       "    <tr style=\"text-align: right;\">\n",
       "      <th></th>\n",
       "      <th>Number_of_Customers_Per_Day</th>\n",
       "      <th>Average_Order_Value</th>\n",
       "      <th>Marketing_Spend_Per_Day</th>\n",
       "    </tr>\n",
       "  </thead>\n",
       "  <tbody>\n",
       "    <tr>\n",
       "      <th>278</th>\n",
       "      <td>421</td>\n",
       "      <td>6.30</td>\n",
       "      <td>87.03</td>\n",
       "    </tr>\n",
       "    <tr>\n",
       "      <th>492</th>\n",
       "      <td>239</td>\n",
       "      <td>4.26</td>\n",
       "      <td>192.94</td>\n",
       "    </tr>\n",
       "    <tr>\n",
       "      <th>1266</th>\n",
       "      <td>467</td>\n",
       "      <td>5.91</td>\n",
       "      <td>127.57</td>\n",
       "    </tr>\n",
       "    <tr>\n",
       "      <th>557</th>\n",
       "      <td>434</td>\n",
       "      <td>9.74</td>\n",
       "      <td>359.67</td>\n",
       "    </tr>\n",
       "    <tr>\n",
       "      <th>871</th>\n",
       "      <td>466</td>\n",
       "      <td>6.49</td>\n",
       "      <td>133.48</td>\n",
       "    </tr>\n",
       "  </tbody>\n",
       "</table>\n",
       "</div>"
      ],
      "text/plain": [
       "      Number_of_Customers_Per_Day  Average_Order_Value  \\\n",
       "278                           421                 6.30   \n",
       "492                           239                 4.26   \n",
       "1266                          467                 5.91   \n",
       "557                           434                 9.74   \n",
       "871                           466                 6.49   \n",
       "\n",
       "      Marketing_Spend_Per_Day  \n",
       "278                     87.03  \n",
       "492                    192.94  \n",
       "1266                   127.57  \n",
       "557                    359.67  \n",
       "871                    133.48  "
      ]
     },
     "execution_count": 44,
     "metadata": {},
     "output_type": "execute_result"
    }
   ],
   "source": [
    "xtest_dropped_feat.head()"
   ]
  },
  {
   "cell_type": "markdown",
   "metadata": {},
   "source": [
    "### **Trying to improve linear models(lin reg, l1, l2 and elastic net).**"
   ]
  },
  {
   "cell_type": "code",
   "execution_count": null,
   "metadata": {},
   "outputs": [
    {
     "data": {
      "image/png": "[encoded data removed]",
      "text/plain": [
       "<Figure size 640x480 with 4 Axes>"
      ]
     },
     "metadata": {},
     "output_type": "display_data"
    }
   ],
   "source": [
    "xtrain_dropped_feat.hist(bins=30)\n",
    "plt.show()"
   ]
  },
  {
   "cell_type": "markdown",
   "metadata": {},
   "source": [
    "- Applying log transformation makes the features skewed so transformation step is skipped"
   ]
  },
  {
   "cell_type": "code",
   "execution_count": 57,
   "metadata": {},
   "outputs": [],
   "source": [
    "# Scaling\n",
    "std_scaler = StandardScaler()\n",
    "\n",
    "xtrain_std_scaled = pd.DataFrame(std_scaler.fit_transform(xtrain_dropped_feat), columns=xtrain_dropped_feat.columns)\n",
    "xtest_std_scaled = pd.DataFrame(std_scaler.transform(xtest_dropped_feat), columns=xtest_dropped_feat.columns)"
   ]
  },
  {
   "cell_type": "code",
   "execution_count": 58,
   "metadata": {},
   "outputs": [
    {
     "data": {
      "text/html": [
       "<div>\n",
       "<style scoped>\n",
       "    .dataframe tbody tr th:only-of-type {\n",
       "        vertical-align: middle;\n",
       "    }\n",
       "\n",
       "    .dataframe tbody tr th {\n",
       "        vertical-align: top;\n",
       "    }\n",
       "\n",
       "    .dataframe thead th {\n",
       "        text-align: right;\n",
       "    }\n",
       "</style>\n",
       "<table border=\"1\" class=\"dataframe\">\n",
       "  <thead>\n",
       "    <tr style=\"text-align: right;\">\n",
       "      <th></th>\n",
       "      <th>Number_of_Customers_Per_Day</th>\n",
       "      <th>Average_Order_Value</th>\n",
       "      <th>Marketing_Spend_Per_Day</th>\n",
       "    </tr>\n",
       "  </thead>\n",
       "  <tbody>\n",
       "    <tr>\n",
       "      <th>0</th>\n",
       "      <td>-0.594713</td>\n",
       "      <td>1.063727</td>\n",
       "      <td>1.162863</td>\n",
       "    </tr>\n",
       "    <tr>\n",
       "      <th>1</th>\n",
       "      <td>-1.317792</td>\n",
       "      <td>1.672344</td>\n",
       "      <td>-0.034669</td>\n",
       "    </tr>\n",
       "  </tbody>\n",
       "</table>\n",
       "</div>"
      ],
      "text/plain": [
       "   Number_of_Customers_Per_Day  Average_Order_Value  Marketing_Spend_Per_Day\n",
       "0                    -0.594713             1.063727                 1.162863\n",
       "1                    -1.317792             1.672344                -0.034669"
      ]
     },
     "execution_count": 58,
     "metadata": {},
     "output_type": "execute_result"
    }
   ],
   "source": [
    "xtrain_std_scaled.head(2)"
   ]
  },
  {
   "cell_type": "code",
   "execution_count": 59,
   "metadata": {},
   "outputs": [
    {
     "data": {
      "text/html": [
       "<div>\n",
       "<style scoped>\n",
       "    .dataframe tbody tr th:only-of-type {\n",
       "        vertical-align: middle;\n",
       "    }\n",
       "\n",
       "    .dataframe tbody tr th {\n",
       "        vertical-align: top;\n",
       "    }\n",
       "\n",
       "    .dataframe thead th {\n",
       "        text-align: right;\n",
       "    }\n",
       "</style>\n",
       "<table border=\"1\" class=\"dataframe\">\n",
       "  <thead>\n",
       "    <tr style=\"text-align: right;\">\n",
       "      <th></th>\n",
       "      <th>Number_of_Customers_Per_Day</th>\n",
       "      <th>Average_Order_Value</th>\n",
       "      <th>Marketing_Spend_Per_Day</th>\n",
       "    </tr>\n",
       "  </thead>\n",
       "  <tbody>\n",
       "    <tr>\n",
       "      <th>0</th>\n",
       "      <td>1.136061</td>\n",
       "      <td>0.029536</td>\n",
       "      <td>-1.160794</td>\n",
       "    </tr>\n",
       "    <tr>\n",
       "      <th>1</th>\n",
       "      <td>-0.263943</td>\n",
       "      <td>-0.903982</td>\n",
       "      <td>-0.416440</td>\n",
       "    </tr>\n",
       "  </tbody>\n",
       "</table>\n",
       "</div>"
      ],
      "text/plain": [
       "   Number_of_Customers_Per_Day  Average_Order_Value  Marketing_Spend_Per_Day\n",
       "0                     1.136061             0.029536                -1.160794\n",
       "1                    -0.263943            -0.903982                -0.416440"
      ]
     },
     "execution_count": 59,
     "metadata": {},
     "output_type": "execute_result"
    }
   ],
   "source": [
    "xtest_std_scaled.head(2)"
   ]
  },
  {
   "cell_type": "code",
   "execution_count": 60,
   "metadata": {},
   "outputs": [
    {
     "name": "stderr",
     "output_type": "stream",
     "text": [
      "2025/04/03 14:35:06 INFO mlflow.tracking.fluent: Experiment with name 'Key features standard scaled' does not exist. Creating a new experiment.\n"
     ]
    },
    {
     "name": "stdout",
     "output_type": "stream",
     "text": [
      "Training model: LinearRegression\n",
      "R2 Score: 0.8904\n",
      "MAE: 253.8684\n",
      "RMSE: 322.0398\n",
      "-----------------------------------\n",
      "Training model: Ridge\n",
      "R2 Score: 0.8904\n",
      "MAE: 253.8963\n",
      "RMSE: 322.0385\n",
      "-----------------------------------\n",
      "Training model: Lasso\n",
      "R2 Score: 0.8904\n",
      "MAE: 253.9198\n",
      "RMSE: 322.0405\n",
      "-----------------------------------\n",
      "Training model: ElasticNet\n",
      "R2 Score: 0.7931\n",
      "MAE: 345.2430\n",
      "RMSE: 443.3665\n",
      "-----------------------------------\n",
      "Training model: DecisionTreeRegressor\n",
      "R2 Score: 0.8937\n",
      "MAE: 258.5239\n",
      "RMSE: 315.8263\n",
      "-----------------------------------\n",
      "Training model: RandomForestRegressor\n",
      "R2 Score: 0.9428\n",
      "MAE: 187.0007\n",
      "RMSE: 231.7295\n",
      "-----------------------------------\n",
      "Training model: SVR\n",
      "R2 Score: 0.1859\n",
      "MAE: 689.7025\n",
      "RMSE: 880.2349\n",
      "-----------------------------------\n",
      "Training model: XGBoostRegressor\n",
      "R2 Score: 0.9374\n",
      "MAE: 195.9694\n",
      "RMSE: 243.2057\n",
      "-----------------------------------\n",
      "Training model: KNN\n",
      "R2 Score: 0.9396\n",
      "MAE: 189.9169\n",
      "RMSE: 238.3082\n",
      "-----------------------------------\n"
     ]
    }
   ],
   "source": [
    "get_baseline_metrics(models_dict, xtrain_std_scaled, ytrain, 'Key features standard scaled')"
   ]
  },
  {
   "cell_type": "markdown",
   "metadata": {},
   "source": [
    "### **Analysis of Standard Scaling vs. No Scaling Results**\n",
    "\n",
    "#### **1. Impact on Linear Models (Linear Regression, Ridge, Lasso, ElasticNet)**\n",
    "- **Linear Regression & Ridge:** No significant change; scaling had no effect.  \n",
    "- **Lasso:** Slight increase in MAE and RMSE after scaling.  \n",
    "- **ElasticNet:** Performance dropped significantly (**R²: 0.7931 vs. 0.8876** before scaling), indicating sensitivity to scaling.  \n",
    "\n",
    "#### **2. Impact on Tree-Based Models (Decision Tree, Random Forest, XGBoost)**\n",
    "- **DecisionTreeRegressor:** Slight improvement after scaling (**R²: 0.8937 vs. 0.8910**).  \n",
    "- **RandomForestRegressor & XGBoost:** No significant impact, confirming that tree-based models do not require scaling.  \n",
    "\n",
    "#### **3. Impact on Distance-Based Models (SVR, KNN)**\n",
    "- **SVR:** Slight improvement (**R²: 0.1466 → 0.1859**) but still performs poorly.  \n",
    "- **KNN:** Major improvement (**R²: 0.5432 → 0.9396**), highlighting the importance of scaling for distance-based models.  \n",
    "\n",
    "### **Conclusion:**\n",
    "____________________\n",
    "- **Scaling had minimal impact on linear models but hurt ElasticNet.**  \n",
    "- **Tree-based models (Decision Tree, Random Forest, XGBoost) do not need scaling.**  \n",
    "- **Distance-based models (KNN, SVR) benefited from scaling, especially KNN.**  "
   ]
  },
  {
   "cell_type": "markdown",
   "metadata": {},
   "source": [
    "###  "
   ]
  },
  {
   "cell_type": "markdown",
   "metadata": {},
   "source": [
    "**                          **"
   ]
  },
  {
   "cell_type": "markdown",
   "metadata": {},
   "source": [
    "## **Rationale for Hyperparameter Tuning**\n",
    "____________________________________________________\n",
    "\n",
    "### **Why Hyperparameter Tune DecisionTree, RandomForest, XGBoost, and KNN?**\n",
    "- These models have shown **higher performance** than linear models, with **R² > 0.94** in some cases.\n",
    "- They have multiple hyperparameters that **significantly impact performance** and can be optimized for better results.\n",
    "- **KNN benefits from standard scaling**, so tuning its hyperparameters (e.g., `n_neighbors`, `weights`, `metric`) can further improve its performance.\n",
    "\n",
    "### **Why Not Tune Linear Models?**\n",
    "- **LinearRegression, Ridge, and Lasso** already perform well (**R² ≈ 0.89**).\n",
    "- Further tuning (e.g., adjusting `alpha` in Ridge/Lasso) is **unlikely to bring substantial improvements**.\n",
    "\n",
    "### **Why Not Tune SVR?**\n",
    "- SVR performed **significantly worse** (**R² ≈ 0.18**), indicating it is **not well-suited** for this dataset.\n",
    "- Tuning its parameters (e.g., `C`, `epsilon`, `kernel`) is unlikely to bridge the performance gap.\n",
    "- Other models outperform SVR, so focusing on them is a better use of time.\n",
    "\n",
    "### **Conclusion**\n",
    "- Decided to proceed with **hyperparameter tuning for DecisionTree, RandomForest, XGBoost, and KNN** to maximize model performance.  \n",
    "- **Skipping tuning for Linear Models and SVR** due to their **diminishing returns** or poor performance."
   ]
  },
  {
   "cell_type": "code",
   "execution_count": 79,
   "metadata": {},
   "outputs": [],
   "source": [
    "# saving splits\n",
    "xtrain_dropped_feat.to_csv('xtrain split_dropped_features.csv', index=False)\n",
    "xtest_dropped_feat.to_csv('xtest split_dropped_features.csv', index=False)\n",
    "ytrain.to_csv('ytrain.csv', index=False)\n",
    "ytest.to_csv('ytest.csv', index=False)\n",
    "xtrain_std_scaled.to_csv('xtrain_scaled.csv', index=False)\n",
    "xtest_std_scaled.to_csv('xtest_scaled.csv', index=False)"
   ]
  },
  {
   "cell_type": "code",
   "execution_count": null,
   "metadata": {},
   "outputs": [],
   "source": [
    "param_grid_dtree = {\n",
    "    \"max_depth\": [3, 5, 10, 15, 20, None],\n",
    "    \"min_samples_split\": [2, 5, 10, 20],\n",
    "    \"min_samples_leaf\": [1, 2, 4, 8, 10],\n",
    "    \"max_features\": [\"sqrt\", \"log2\", None],\n",
    "    \"ccp_alpha\": [0.0, 0.01, 0.02, 0.05] \n",
    "}\n",
    "\n",
    "param_grid_xgb = {\n",
    "    \"n_estimators\": [50, 100, 200],  # Number of boosting rounds\n",
    "    \"learning_rate\": [0.01, 0.05, 0.1, 0.2],  # Step size shrinkage\n",
    "    \"max_depth\": [3, 5, 10, 15],  # Tree depth\n",
    "    \"min_child_weight\": [1, 3, 5],  # Minimum sum of weights for child nodes\n",
    "    \"subsample\": [0.6, 0.8, 1.0],  # Subsampling ratio\n",
    "    \"colsample_bytree\": [0.6, 0.8, 1.0],  # Features per tree\n",
    "    \"gamma\": [0, 0.1, 0.2, 0.5]  # Minimum loss reduction for split\n",
    "}\n",
    "\n",
    "param_grid_rf = {\n",
    "    \"n_estimators\": [50, 100, 200],  # Number of trees\n",
    "    \"max_depth\": [3, 5, 10, 15, None],  # Tree depth\n",
    "    \"min_samples_split\": [2, 5, 10],  # Min samples to split a node\n",
    "    \"min_samples_leaf\": [1, 2, 4],  # Min samples per leaf\n",
    "    \"max_features\": [\"sqrt\", \"log2\", None],  # Feature selection strategy\n",
    "    \"bootstrap\": [True, False]  # Whether to use bootstrapping\n",
    "}\n",
    "\n",
    "param_grid_knn = {\n",
    "    \"n_neighbors\": [3, 5, 7, 10],  # Number of neighbors\n",
    "    \"weights\": [\"uniform\", \"distance\"],  # Weighting function\n",
    "    \"metric\": [\"euclidean\", \"manhattan\", \"minkowski\"],  # Distance metric\n",
    "    \"p\": [1, 2]  # `1 = Manhattan`, `2 = Euclidean`\n",
    "}\n"
   ]
  },
  {
   "cell_type": "code",
   "execution_count": null,
   "metadata": {},
   "outputs": [
    {
     "name": "stderr",
     "output_type": "stream",
     "text": [
      "2025/04/03 15:56:52 INFO mlflow.tracking.fluent: Experiment with name 'Decision Tree Hyperparameter Tuning' does not exist. Creating a new experiment.\n",
      "c:\\Users\\BW\\Desktop\\ML project\\venv\\lib\\site-packages\\mlflow\\types\\utils.py:407: UserWarning: Hint: Inferred schema contains integer column(s). Integer columns in Python cannot represent missing values. If your input data contains missing values at inference time, it will be encoded as floats and will cause a schema enforcement error. The best way to avoid this problem is to infer the model schema based on a realistic data sample (training dataset) that includes missing values. Alternatively, you can declare integer columns as doubles (float64) whenever these columns may have missing values. See `Handling Integers With Missing Values <https://www.mlflow.org/docs/latest/models.html#handling-integers-with-missing-values>`_ for more details.\n",
      "  warnings.warn(\n"
     ]
    },
    {
     "name": "stdout",
     "output_type": "stream",
     "text": [
      "Best Parameters: {'ccp_alpha': 0.0, 'max_depth': 10, 'max_features': None, 'min_samples_leaf': 4, 'min_samples_split': 10}\n",
      "Root Mean Squared Error (RMSE): 272.0160990439445\n",
      "Mean Absolute Error (MAE): 216.87173287609576\n",
      "R2 Score: 0.9209991623092194\n"
     ]
    }
   ],
   "source": [
    "import mlflow\n",
    "import mlflow.sklearn\n",
    "import json\n",
    "from sklearn.model_selection import GridSearchCV\n",
    "from sklearn.metrics import mean_squared_error, mean_absolute_error, r2_score\n",
    "from mlflow.models import infer_signature\n",
    "\n",
    "def hyperparameter_tune(model, param_grid, xtrain, ytrain, xtest, ytest, \n",
    "                        experiment_name, run_name, model_name, json_filename):\n",
    "    \"\"\"Performs hyperparameter tuning and logs the best model in MLflow.\"\"\"\n",
    "    \n",
    "    mlflow.set_experiment(experiment_name)\n",
    "    \n",
    "    grid_search = GridSearchCV(estimator=model, param_grid=param_grid, \n",
    "                               cv=5, scoring='neg_root_mean_squared_error', \n",
    "                               n_jobs=-1, refit=True)\n",
    "    \n",
    "    with mlflow.start_run(run_name=run_name):\n",
    "        grid_search.fit(xtrain, ytrain)\n",
    "        \n",
    "        best_params = grid_search.best_params_\n",
    "        best_model = grid_search.best_estimator_\n",
    "        \n",
    "        predictions = best_model.predict(xtest)\n",
    "\n",
    "        mse = mean_squared_error(ytest, predictions)\n",
    "        rmse = np.sqrt(mse)\n",
    "        mae = mean_absolute_error(ytest, predictions)\n",
    "        r2 = r2_score(ytest, predictions)\n",
    "        \n",
    "        signature = infer_signature(xtrain, best_model.predict(xtrain))\n",
    "        \n",
    "        mlflow.log_params(best_params)\n",
    "        mlflow.log_metric(\"RMSE\", rmse)\n",
    "        mlflow.log_metric(\"MAE\", mae)\n",
    "        mlflow.log_metric(\"R2_score\", r2)\n",
    "\n",
    "        # Save parameters to JSON\n",
    "        with open(json_filename, \"w\") as f:\n",
    "            json.dump(best_params, f)\n",
    "        mlflow.log_artifact(json_filename)\n",
    "\n",
    "        # Log model\n",
    "        mlflow.sklearn.log_model(best_model, artifact_path=model_name, signature=signature)\n",
    "\n",
    "        print('-' * 35)\n",
    "        print(f\"Best Parameters for {model_name}:\", best_params)\n",
    "        print(\"Root Mean Squared Error (RMSE):\", rmse)\n",
    "        print(\"Mean Absolute Error (MAE):\", mae)\n",
    "        print(\"R2 Score:\", r2)\n",
    "        print('-' * 35)"
   ]
  },
  {
   "cell_type": "code",
   "execution_count": 66,
   "metadata": {},
   "outputs": [
    {
     "name": "stderr",
     "output_type": "stream",
     "text": [
      "2025/04/03 15:58:30 INFO mlflow.tracking.fluent: Experiment with name 'Random Forests Tree Hyperparameter Tuning' does not exist. Creating a new experiment.\n",
      "c:\\Users\\BW\\Desktop\\ML project\\venv\\lib\\site-packages\\mlflow\\types\\utils.py:407: UserWarning: Hint: Inferred schema contains integer column(s). Integer columns in Python cannot represent missing values. If your input data contains missing values at inference time, it will be encoded as floats and will cause a schema enforcement error. The best way to avoid this problem is to infer the model schema based on a realistic data sample (training dataset) that includes missing values. Alternatively, you can declare integer columns as doubles (float64) whenever these columns may have missing values. See `Handling Integers With Missing Values <https://www.mlflow.org/docs/latest/models.html#handling-integers-with-missing-values>`_ for more details.\n",
      "  warnings.warn(\n"
     ]
    },
    {
     "name": "stdout",
     "output_type": "stream",
     "text": [
      "Best Parameters: {'bootstrap': True, 'max_depth': 15, 'max_features': None, 'min_samples_leaf': 4, 'min_samples_split': 2, 'n_estimators': 200}\n",
      "Root Mean Squared Error (RMSE): 219.51626437037703\n",
      "Mean Absolute Error (MAE): 176.53068143972763\n",
      "R2 Score: 0.9485511244964846\n"
     ]
    }
   ],
   "source": [
    "param_grid_rf = {\n",
    "    \"n_estimators\": [50, 100, 200],  # Number of trees\n",
    "    \"max_depth\": [3, 5, 10, 15, None],  # Tree depth\n",
    "    \"min_samples_split\": [2, 5, 10],  # Min samples to split a node\n",
    "    \"min_samples_leaf\": [1, 2, 4],  # Min samples per leaf\n",
    "    \"max_features\": [\"sqrt\", \"log2\", None],  # Feature selection strategy\n",
    "    \"bootstrap\": [True, False]  # Whether to use bootstrapping\n",
    "}\n",
    "\n",
    "\n",
    "rndf_trees_model = RandomForestRegressor(random_state=43)\n",
    "grid_search = GridSearchCV(estimator=rndf_trees_model, param_grid=param_grid_rf, cv=5, scoring='neg_root_mean_squared_error', \n",
    "                           n_jobs=-1, refit=True)\n",
    "\n",
    "mlflow.set_experiment(\"Random Forests Tree Hyperparameter Tuning\")\n",
    "with mlflow.start_run():\n",
    "    grid_search.fit(xtrain_dropped_feat, ytrain)\n",
    "    \n",
    "    best_params = grid_search.best_params_\n",
    "    best_model = grid_search.best_estimator_\n",
    "    \n",
    "    predictions = best_model.predict(xtest_dropped_feat)\n",
    "\n",
    "    mse = mean_squared_error(ytest, predictions)\n",
    "    rmse = np.sqrt(mse)\n",
    "    mae = mean_absolute_error(ytest, predictions)\n",
    "    r2 = r2_score(ytest, predictions)\n",
    "\n",
    "    signature = infer_signature(xtrain_dropped_feat, best_model.predict(xtrain_dropped_feat))\n",
    "\n",
    "    mlflow.log_params(best_params)\n",
    "    mlflow.log_metric(\"RMSE\", rmse)\n",
    "    mlflow.log_metric(\"MAE\", mae)\n",
    "    mlflow.log_metric(\"R2_score\", r2)\n",
    "\n",
    "    with open(\"best_randomforests_tree_params.json\", \"w\") as f:\n",
    "        json.dump(best_params, f)\n",
    "    \n",
    "    mlflow.log_artifact(\"best_randomforests_tree_params.json\")\n",
    "\n",
    "    mlflow.sklearn.log_model(best_model, artifact_path=\"randomforests_tree_hyper_tuned\", signature=signature)\n",
    "    \n",
    "    print(\"Best Parameters:\", best_params)\n",
    "    print(\"Root Mean Squared Error (RMSE):\", rmse)\n",
    "    print(\"Mean Absolute Error (MAE):\", mae)\n",
    "    print(\"R2 Score:\", r2)"
   ]
  },
  {
   "cell_type": "code",
   "execution_count": 67,
   "metadata": {},
   "outputs": [
    {
     "name": "stderr",
     "output_type": "stream",
     "text": [
      "2025/04/03 16:06:54 INFO mlflow.tracking.fluent: Experiment with name 'XGBoost Hyperparameter Tuning' does not exist. Creating a new experiment.\n"
     ]
    },
    {
     "ename": "KeyboardInterrupt",
     "evalue": "",
     "output_type": "error",
     "traceback": [
      "\u001b[1;31m---------------------------------------------------------------------------\u001b[0m",
      "\u001b[1;31mKeyboardInterrupt\u001b[0m                         Traceback (most recent call last)",
      "Cell \u001b[1;32mIn[67], line 16\u001b[0m\n\u001b[0;32m     14\u001b[0m mlflow\u001b[38;5;241m.\u001b[39mset_experiment(\u001b[38;5;124m\"\u001b[39m\u001b[38;5;124mXGBoost Hyperparameter Tuning\u001b[39m\u001b[38;5;124m\"\u001b[39m)\n\u001b[0;32m     15\u001b[0m \u001b[38;5;28;01mwith\u001b[39;00m mlflow\u001b[38;5;241m.\u001b[39mstart_run():\n\u001b[1;32m---> 16\u001b[0m     \u001b[43mgrid_search\u001b[49m\u001b[38;5;241;43m.\u001b[39;49m\u001b[43mfit\u001b[49m\u001b[43m(\u001b[49m\u001b[43mxtrain_dropped_feat\u001b[49m\u001b[43m,\u001b[49m\u001b[43m \u001b[49m\u001b[43mytrain\u001b[49m\u001b[43m)\u001b[49m\n\u001b[0;32m     18\u001b[0m     best_params \u001b[38;5;241m=\u001b[39m grid_search\u001b[38;5;241m.\u001b[39mbest_params_\n\u001b[0;32m     19\u001b[0m     best_model \u001b[38;5;241m=\u001b[39m grid_search\u001b[38;5;241m.\u001b[39mbest_estimator_\n",
      "File \u001b[1;32mc:\\Users\\BW\\Desktop\\ML project\\venv\\lib\\site-packages\\sklearn\\base.py:1152\u001b[0m, in \u001b[0;36m_fit_context.<locals>.decorator.<locals>.wrapper\u001b[1;34m(estimator, *args, **kwargs)\u001b[0m\n\u001b[0;32m   1145\u001b[0m     estimator\u001b[38;5;241m.\u001b[39m_validate_params()\n\u001b[0;32m   1147\u001b[0m \u001b[38;5;28;01mwith\u001b[39;00m config_context(\n\u001b[0;32m   1148\u001b[0m     skip_parameter_validation\u001b[38;5;241m=\u001b[39m(\n\u001b[0;32m   1149\u001b[0m         prefer_skip_nested_validation \u001b[38;5;129;01mor\u001b[39;00m global_skip_validation\n\u001b[0;32m   1150\u001b[0m     )\n\u001b[0;32m   1151\u001b[0m ):\n\u001b[1;32m-> 1152\u001b[0m     \u001b[38;5;28;01mreturn\u001b[39;00m \u001b[43mfit_method\u001b[49m\u001b[43m(\u001b[49m\u001b[43mestimator\u001b[49m\u001b[43m,\u001b[49m\u001b[43m \u001b[49m\u001b[38;5;241;43m*\u001b[39;49m\u001b[43margs\u001b[49m\u001b[43m,\u001b[49m\u001b[43m \u001b[49m\u001b[38;5;241;43m*\u001b[39;49m\u001b[38;5;241;43m*\u001b[39;49m\u001b[43mkwargs\u001b[49m\u001b[43m)\u001b[49m\n",
      "File \u001b[1;32mc:\\Users\\BW\\Desktop\\ML project\\venv\\lib\\site-packages\\sklearn\\model_selection\\_search.py:898\u001b[0m, in \u001b[0;36mBaseSearchCV.fit\u001b[1;34m(self, X, y, groups, **fit_params)\u001b[0m\n\u001b[0;32m    892\u001b[0m     results \u001b[38;5;241m=\u001b[39m \u001b[38;5;28mself\u001b[39m\u001b[38;5;241m.\u001b[39m_format_results(\n\u001b[0;32m    893\u001b[0m         all_candidate_params, n_splits, all_out, all_more_results\n\u001b[0;32m    894\u001b[0m     )\n\u001b[0;32m    896\u001b[0m     \u001b[38;5;28;01mreturn\u001b[39;00m results\n\u001b[1;32m--> 898\u001b[0m \u001b[38;5;28;43mself\u001b[39;49m\u001b[38;5;241;43m.\u001b[39;49m\u001b[43m_run_search\u001b[49m\u001b[43m(\u001b[49m\u001b[43mevaluate_candidates\u001b[49m\u001b[43m)\u001b[49m\n\u001b[0;32m    900\u001b[0m \u001b[38;5;66;03m# multimetric is determined here because in the case of a callable\u001b[39;00m\n\u001b[0;32m    901\u001b[0m \u001b[38;5;66;03m# self.scoring the return type is only known after calling\u001b[39;00m\n\u001b[0;32m    902\u001b[0m first_test_score \u001b[38;5;241m=\u001b[39m all_out[\u001b[38;5;241m0\u001b[39m][\u001b[38;5;124m\"\u001b[39m\u001b[38;5;124mtest_scores\u001b[39m\u001b[38;5;124m\"\u001b[39m]\n",
      "File \u001b[1;32mc:\\Users\\BW\\Desktop\\ML project\\venv\\lib\\site-packages\\sklearn\\model_selection\\_search.py:1422\u001b[0m, in \u001b[0;36mGridSearchCV._run_search\u001b[1;34m(self, evaluate_candidates)\u001b[0m\n\u001b[0;32m   1420\u001b[0m \u001b[38;5;28;01mdef\u001b[39;00m\u001b[38;5;250m \u001b[39m\u001b[38;5;21m_run_search\u001b[39m(\u001b[38;5;28mself\u001b[39m, evaluate_candidates):\n\u001b[0;32m   1421\u001b[0m \u001b[38;5;250m    \u001b[39m\u001b[38;5;124;03m\"\"\"Search all candidates in param_grid\"\"\"\u001b[39;00m\n\u001b[1;32m-> 1422\u001b[0m     \u001b[43mevaluate_candidates\u001b[49m\u001b[43m(\u001b[49m\u001b[43mParameterGrid\u001b[49m\u001b[43m(\u001b[49m\u001b[38;5;28;43mself\u001b[39;49m\u001b[38;5;241;43m.\u001b[39;49m\u001b[43mparam_grid\u001b[49m\u001b[43m)\u001b[49m\u001b[43m)\u001b[49m\n",
      "File \u001b[1;32mc:\\Users\\BW\\Desktop\\ML project\\venv\\lib\\site-packages\\sklearn\\model_selection\\_search.py:845\u001b[0m, in \u001b[0;36mBaseSearchCV.fit.<locals>.evaluate_candidates\u001b[1;34m(candidate_params, cv, more_results)\u001b[0m\n\u001b[0;32m    837\u001b[0m \u001b[38;5;28;01mif\u001b[39;00m \u001b[38;5;28mself\u001b[39m\u001b[38;5;241m.\u001b[39mverbose \u001b[38;5;241m>\u001b[39m \u001b[38;5;241m0\u001b[39m:\n\u001b[0;32m    838\u001b[0m     \u001b[38;5;28mprint\u001b[39m(\n\u001b[0;32m    839\u001b[0m         \u001b[38;5;124m\"\u001b[39m\u001b[38;5;124mFitting \u001b[39m\u001b[38;5;132;01m{0}\u001b[39;00m\u001b[38;5;124m folds for each of \u001b[39m\u001b[38;5;132;01m{1}\u001b[39;00m\u001b[38;5;124m candidates,\u001b[39m\u001b[38;5;124m\"\u001b[39m\n\u001b[0;32m    840\u001b[0m         \u001b[38;5;124m\"\u001b[39m\u001b[38;5;124m totalling \u001b[39m\u001b[38;5;132;01m{2}\u001b[39;00m\u001b[38;5;124m fits\u001b[39m\u001b[38;5;124m\"\u001b[39m\u001b[38;5;241m.\u001b[39mformat(\n\u001b[0;32m    841\u001b[0m             n_splits, n_candidates, n_candidates \u001b[38;5;241m*\u001b[39m n_splits\n\u001b[0;32m    842\u001b[0m         )\n\u001b[0;32m    843\u001b[0m     )\n\u001b[1;32m--> 845\u001b[0m out \u001b[38;5;241m=\u001b[39m \u001b[43mparallel\u001b[49m\u001b[43m(\u001b[49m\n\u001b[0;32m    846\u001b[0m \u001b[43m    \u001b[49m\u001b[43mdelayed\u001b[49m\u001b[43m(\u001b[49m\u001b[43m_fit_and_score\u001b[49m\u001b[43m)\u001b[49m\u001b[43m(\u001b[49m\n\u001b[0;32m    847\u001b[0m \u001b[43m        \u001b[49m\u001b[43mclone\u001b[49m\u001b[43m(\u001b[49m\u001b[43mbase_estimator\u001b[49m\u001b[43m)\u001b[49m\u001b[43m,\u001b[49m\n\u001b[0;32m    848\u001b[0m \u001b[43m        \u001b[49m\u001b[43mX\u001b[49m\u001b[43m,\u001b[49m\n\u001b[0;32m    849\u001b[0m \u001b[43m        \u001b[49m\u001b[43my\u001b[49m\u001b[43m,\u001b[49m\n\u001b[0;32m    850\u001b[0m \u001b[43m        \u001b[49m\u001b[43mtrain\u001b[49m\u001b[38;5;241;43m=\u001b[39;49m\u001b[43mtrain\u001b[49m\u001b[43m,\u001b[49m\n\u001b[0;32m    851\u001b[0m \u001b[43m        \u001b[49m\u001b[43mtest\u001b[49m\u001b[38;5;241;43m=\u001b[39;49m\u001b[43mtest\u001b[49m\u001b[43m,\u001b[49m\n\u001b[0;32m    852\u001b[0m \u001b[43m        \u001b[49m\u001b[43mparameters\u001b[49m\u001b[38;5;241;43m=\u001b[39;49m\u001b[43mparameters\u001b[49m\u001b[43m,\u001b[49m\n\u001b[0;32m    853\u001b[0m \u001b[43m        \u001b[49m\u001b[43msplit_progress\u001b[49m\u001b[38;5;241;43m=\u001b[39;49m\u001b[43m(\u001b[49m\u001b[43msplit_idx\u001b[49m\u001b[43m,\u001b[49m\u001b[43m \u001b[49m\u001b[43mn_splits\u001b[49m\u001b[43m)\u001b[49m\u001b[43m,\u001b[49m\n\u001b[0;32m    854\u001b[0m \u001b[43m        \u001b[49m\u001b[43mcandidate_progress\u001b[49m\u001b[38;5;241;43m=\u001b[39;49m\u001b[43m(\u001b[49m\u001b[43mcand_idx\u001b[49m\u001b[43m,\u001b[49m\u001b[43m \u001b[49m\u001b[43mn_candidates\u001b[49m\u001b[43m)\u001b[49m\u001b[43m,\u001b[49m\n\u001b[0;32m    855\u001b[0m \u001b[43m        \u001b[49m\u001b[38;5;241;43m*\u001b[39;49m\u001b[38;5;241;43m*\u001b[39;49m\u001b[43mfit_and_score_kwargs\u001b[49m\u001b[43m,\u001b[49m\n\u001b[0;32m    856\u001b[0m \u001b[43m    \u001b[49m\u001b[43m)\u001b[49m\n\u001b[0;32m    857\u001b[0m \u001b[43m    \u001b[49m\u001b[38;5;28;43;01mfor\u001b[39;49;00m\u001b[43m \u001b[49m\u001b[43m(\u001b[49m\u001b[43mcand_idx\u001b[49m\u001b[43m,\u001b[49m\u001b[43m \u001b[49m\u001b[43mparameters\u001b[49m\u001b[43m)\u001b[49m\u001b[43m,\u001b[49m\u001b[43m \u001b[49m\u001b[43m(\u001b[49m\u001b[43msplit_idx\u001b[49m\u001b[43m,\u001b[49m\u001b[43m \u001b[49m\u001b[43m(\u001b[49m\u001b[43mtrain\u001b[49m\u001b[43m,\u001b[49m\u001b[43m \u001b[49m\u001b[43mtest\u001b[49m\u001b[43m)\u001b[49m\u001b[43m)\u001b[49m\u001b[43m \u001b[49m\u001b[38;5;129;43;01min\u001b[39;49;00m\u001b[43m \u001b[49m\u001b[43mproduct\u001b[49m\u001b[43m(\u001b[49m\n\u001b[0;32m    858\u001b[0m \u001b[43m        \u001b[49m\u001b[38;5;28;43menumerate\u001b[39;49m\u001b[43m(\u001b[49m\u001b[43mcandidate_params\u001b[49m\u001b[43m)\u001b[49m\u001b[43m,\u001b[49m\u001b[43m \u001b[49m\u001b[38;5;28;43menumerate\u001b[39;49m\u001b[43m(\u001b[49m\u001b[43mcv\u001b[49m\u001b[38;5;241;43m.\u001b[39;49m\u001b[43msplit\u001b[49m\u001b[43m(\u001b[49m\u001b[43mX\u001b[49m\u001b[43m,\u001b[49m\u001b[43m \u001b[49m\u001b[43my\u001b[49m\u001b[43m,\u001b[49m\u001b[43m \u001b[49m\u001b[43mgroups\u001b[49m\u001b[43m)\u001b[49m\u001b[43m)\u001b[49m\n\u001b[0;32m    859\u001b[0m \u001b[43m    \u001b[49m\u001b[43m)\u001b[49m\n\u001b[0;32m    860\u001b[0m \u001b[43m\u001b[49m\u001b[43m)\u001b[49m\n\u001b[0;32m    862\u001b[0m \u001b[38;5;28;01mif\u001b[39;00m \u001b[38;5;28mlen\u001b[39m(out) \u001b[38;5;241m<\u001b[39m \u001b[38;5;241m1\u001b[39m:\n\u001b[0;32m    863\u001b[0m     \u001b[38;5;28;01mraise\u001b[39;00m \u001b[38;5;167;01mValueError\u001b[39;00m(\n\u001b[0;32m    864\u001b[0m         \u001b[38;5;124m\"\u001b[39m\u001b[38;5;124mNo fits were performed. \u001b[39m\u001b[38;5;124m\"\u001b[39m\n\u001b[0;32m    865\u001b[0m         \u001b[38;5;124m\"\u001b[39m\u001b[38;5;124mWas the CV iterator empty? \u001b[39m\u001b[38;5;124m\"\u001b[39m\n\u001b[0;32m    866\u001b[0m         \u001b[38;5;124m\"\u001b[39m\u001b[38;5;124mWere there no candidates?\u001b[39m\u001b[38;5;124m\"\u001b[39m\n\u001b[0;32m    867\u001b[0m     )\n",
      "File \u001b[1;32mc:\\Users\\BW\\Desktop\\ML project\\venv\\lib\\site-packages\\sklearn\\utils\\parallel.py:65\u001b[0m, in \u001b[0;36mParallel.__call__\u001b[1;34m(self, iterable)\u001b[0m\n\u001b[0;32m     60\u001b[0m config \u001b[38;5;241m=\u001b[39m get_config()\n\u001b[0;32m     61\u001b[0m iterable_with_config \u001b[38;5;241m=\u001b[39m (\n\u001b[0;32m     62\u001b[0m     (_with_config(delayed_func, config), args, kwargs)\n\u001b[0;32m     63\u001b[0m     \u001b[38;5;28;01mfor\u001b[39;00m delayed_func, args, kwargs \u001b[38;5;129;01min\u001b[39;00m iterable\n\u001b[0;32m     64\u001b[0m )\n\u001b[1;32m---> 65\u001b[0m \u001b[38;5;28;01mreturn\u001b[39;00m \u001b[38;5;28;43msuper\u001b[39;49m\u001b[43m(\u001b[49m\u001b[43m)\u001b[49m\u001b[38;5;241;43m.\u001b[39;49m\u001b[38;5;21;43m__call__\u001b[39;49m\u001b[43m(\u001b[49m\u001b[43miterable_with_config\u001b[49m\u001b[43m)\u001b[49m\n",
      "File \u001b[1;32mc:\\Users\\BW\\Desktop\\ML project\\venv\\lib\\site-packages\\joblib\\parallel.py:2007\u001b[0m, in \u001b[0;36mParallel.__call__\u001b[1;34m(self, iterable)\u001b[0m\n\u001b[0;32m   2001\u001b[0m \u001b[38;5;66;03m# The first item from the output is blank, but it makes the interpreter\u001b[39;00m\n\u001b[0;32m   2002\u001b[0m \u001b[38;5;66;03m# progress until it enters the Try/Except block of the generator and\u001b[39;00m\n\u001b[0;32m   2003\u001b[0m \u001b[38;5;66;03m# reaches the first `yield` statement. This starts the asynchronous\u001b[39;00m\n\u001b[0;32m   2004\u001b[0m \u001b[38;5;66;03m# dispatch of the tasks to the workers.\u001b[39;00m\n\u001b[0;32m   2005\u001b[0m \u001b[38;5;28mnext\u001b[39m(output)\n\u001b[1;32m-> 2007\u001b[0m \u001b[38;5;28;01mreturn\u001b[39;00m output \u001b[38;5;28;01mif\u001b[39;00m \u001b[38;5;28mself\u001b[39m\u001b[38;5;241m.\u001b[39mreturn_generator \u001b[38;5;28;01melse\u001b[39;00m \u001b[38;5;28;43mlist\u001b[39;49m\u001b[43m(\u001b[49m\u001b[43moutput\u001b[49m\u001b[43m)\u001b[49m\n",
      "File \u001b[1;32mc:\\Users\\BW\\Desktop\\ML project\\venv\\lib\\site-packages\\joblib\\parallel.py:1650\u001b[0m, in \u001b[0;36mParallel._get_outputs\u001b[1;34m(self, iterator, pre_dispatch)\u001b[0m\n\u001b[0;32m   1647\u001b[0m     \u001b[38;5;28;01myield\u001b[39;00m\n\u001b[0;32m   1649\u001b[0m     \u001b[38;5;28;01mwith\u001b[39;00m \u001b[38;5;28mself\u001b[39m\u001b[38;5;241m.\u001b[39m_backend\u001b[38;5;241m.\u001b[39mretrieval_context():\n\u001b[1;32m-> 1650\u001b[0m         \u001b[38;5;28;01myield from\u001b[39;00m \u001b[38;5;28mself\u001b[39m\u001b[38;5;241m.\u001b[39m_retrieve()\n\u001b[0;32m   1652\u001b[0m \u001b[38;5;28;01mexcept\u001b[39;00m \u001b[38;5;167;01mGeneratorExit\u001b[39;00m:\n\u001b[0;32m   1653\u001b[0m     \u001b[38;5;66;03m# The generator has been garbage collected before being fully\u001b[39;00m\n\u001b[0;32m   1654\u001b[0m     \u001b[38;5;66;03m# consumed. This aborts the remaining tasks if possible and warn\u001b[39;00m\n\u001b[0;32m   1655\u001b[0m     \u001b[38;5;66;03m# the user if necessary.\u001b[39;00m\n\u001b[0;32m   1656\u001b[0m     \u001b[38;5;28mself\u001b[39m\u001b[38;5;241m.\u001b[39m_exception \u001b[38;5;241m=\u001b[39m \u001b[38;5;28;01mTrue\u001b[39;00m\n",
      "File \u001b[1;32mc:\\Users\\BW\\Desktop\\ML project\\venv\\lib\\site-packages\\joblib\\parallel.py:1762\u001b[0m, in \u001b[0;36mParallel._retrieve\u001b[1;34m(self)\u001b[0m\n\u001b[0;32m   1757\u001b[0m \u001b[38;5;66;03m# If the next job is not ready for retrieval yet, we just wait for\u001b[39;00m\n\u001b[0;32m   1758\u001b[0m \u001b[38;5;66;03m# async callbacks to progress.\u001b[39;00m\n\u001b[0;32m   1759\u001b[0m \u001b[38;5;28;01mif\u001b[39;00m ((\u001b[38;5;28mlen\u001b[39m(\u001b[38;5;28mself\u001b[39m\u001b[38;5;241m.\u001b[39m_jobs) \u001b[38;5;241m==\u001b[39m \u001b[38;5;241m0\u001b[39m) \u001b[38;5;129;01mor\u001b[39;00m\n\u001b[0;32m   1760\u001b[0m     (\u001b[38;5;28mself\u001b[39m\u001b[38;5;241m.\u001b[39m_jobs[\u001b[38;5;241m0\u001b[39m]\u001b[38;5;241m.\u001b[39mget_status(\n\u001b[0;32m   1761\u001b[0m         timeout\u001b[38;5;241m=\u001b[39m\u001b[38;5;28mself\u001b[39m\u001b[38;5;241m.\u001b[39mtimeout) \u001b[38;5;241m==\u001b[39m TASK_PENDING)):\n\u001b[1;32m-> 1762\u001b[0m     \u001b[43mtime\u001b[49m\u001b[38;5;241;43m.\u001b[39;49m\u001b[43msleep\u001b[49m\u001b[43m(\u001b[49m\u001b[38;5;241;43m0.01\u001b[39;49m\u001b[43m)\u001b[49m\n\u001b[0;32m   1763\u001b[0m     \u001b[38;5;28;01mcontinue\u001b[39;00m\n\u001b[0;32m   1765\u001b[0m \u001b[38;5;66;03m# We need to be careful: the job list can be filling up as\u001b[39;00m\n\u001b[0;32m   1766\u001b[0m \u001b[38;5;66;03m# we empty it and Python list are not thread-safe by\u001b[39;00m\n\u001b[0;32m   1767\u001b[0m \u001b[38;5;66;03m# default hence the use of the lock\u001b[39;00m\n",
      "\u001b[1;31mKeyboardInterrupt\u001b[0m: "
     ]
    }
   ],
   "source": [
    "param_grid_xgb = {\n",
    "    \"n_estimators\": [50, 100, 200],  # Number of boosting rounds\n",
    "    \"learning_rate\": [0.01, 0.05, 0.1, 0.2],  # Step size shrinkage\n",
    "    \"max_depth\": [3, 5, 10, 15],  # Tree depth\n",
    "    \"min_child_weight\": [1, 3, 5],  # Minimum sum of weights for child nodes\n",
    "    \"subsample\": [0.6, 0.8, 1.0],  # Subsampling ratio\n",
    "    \"colsample_bytree\": [0.6, 0.8, 1.0],  # Features per tree\n",
    "    \"gamma\": [0, 0.1, 0.2, 0.5]  # Minimum loss reduction for split\n",
    "}\n",
    "\n",
    "xgb_regessor_model = XGBRegressor(random_state=44)\n",
    "grid_search = GridSearchCV(estimator=xgb_regessor_model, param_grid=param_grid_xgb, cv=5, scoring='neg_root_mean_squared_error', n_jobs=-1, refit=True)\n",
    "\n",
    "mlflow.set_experiment(\"XGBoost Hyperparameter Tuning\")\n",
    "with mlflow.start_run():\n",
    "    grid_search.fit(xtrain_dropped_feat, ytrain)\n",
    "    \n",
    "    best_params = grid_search.best_params_\n",
    "    best_model = grid_search.best_estimator_\n",
    "    \n",
    "    predictions = best_model.predict(xtest_dropped_feat)\n",
    "\n",
    "    mse = mean_squared_error(ytest, predictions)\n",
    "    rmse = np.sqrt(mse)\n",
    "    mae = mean_absolute_error(ytest, predictions)\n",
    "    r2 = r2_score(ytest, predictions)\n",
    "\n",
    "    signature = infer_signature(xtrain_dropped_feat, best_model.predict(xtrain_dropped_feat))\n",
    "\n",
    "    mlflow.log_params(best_params)\n",
    "    mlflow.log_metric(\"RMSE\", rmse)\n",
    "    mlflow.log_metric(\"MAE\", mae)\n",
    "    mlflow.log_metric(\"R2_score\", r2)\n",
    "\n",
    "    with open(\"best_xgboost_tree_params.json\", \"w\") as f:\n",
    "        json.dump(best_params, f)\n",
    "    \n",
    "    mlflow.log_artifact(\"best_xgboost_tree_params.json\")\n",
    "\n",
    "    mlflow.sklearn.log_model(best_model, artifact_path=\"xgboost_hyper_tuned\", signature=signature)\n",
    "    \n",
    "    print(\"Best Parameters:\", best_params)\n",
    "    print(\"Root Mean Squared Error (RMSE):\", rmse)\n",
    "    print(\"Mean Absolute Error (MAE):\", mae)\n",
    "    print(\"R2 Score:\", r2)"
   ]
  },
  {
   "cell_type": "code",
   "execution_count": null,
   "metadata": {},
   "outputs": [],
   "source": [
    "plt.figure(figsize=(8, 6))\n",
    "sns.scatterplot(x=y_test, y=y_pred)\n",
    "plt.xlabel(\"Actual Values (y_test)\")\n",
    "plt.ylabel(\"Predicted Values (y_pred)\")\n",
    "plt.title(\"Scatter Plot of Actual vs Predicted Values\")\n",
    "plt.show()\n",
    "\n",
    "residuals = y_test - y_pred\n",
    "plt.figure(figsize=(8, 6))\n",
    "sns.histplot(residuals, kde=True, bins=30)\n",
    "plt.xlabel(\"Residuals\")\n",
    "plt.title(\"Residual Distribution (Should Be Normally Distributed)\")\n",
    "plt.show()\n",
    "\n",
    "plt.figure(figsize=(8, 6))\n",
    "sns.scatterplot(x=y_pred, y=residuals)\n",
    "plt.axhline(y=0, color='r', linestyle='--')  # Red line at y=0 for reference\n",
    "plt.xlabel(\"Predicted Values (y_pred)\")\n",
    "plt.ylabel(\"Residuals (y_test - y_pred)\")\n",
    "plt.title(\"Predicted Values vs Residuals (Should Be Uniformly Scattered)\")\n",
    "plt.show()"
   ]
  },
  {
   "cell_type": "code",
   "execution_count": null,
   "metadata": {},
   "outputs": [],
   "source": []
  }
 ],
 "metadata": {
  "kernelspec": {
   "display_name": "Python 3",
   "language": "python",
   "name": "python3"
  },
  "language_info": {
   "codemirror_mode": {
    "name": "ipython",
    "version": 3
   },
   "file_extension": ".py",
   "mimetype": "text/x-python",
   "name": "python",
   "nbconvert_exporter": "python",
   "pygments_lexer": "ipython3",
   "version": "3.8.0"
  }
 },
 "nbformat": 4,
 "nbformat_minor": 2
}
