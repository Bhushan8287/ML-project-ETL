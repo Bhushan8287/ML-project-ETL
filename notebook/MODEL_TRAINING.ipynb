{
 "cells": [
  {
   "cell_type": "code",
   "execution_count": 1,
   "metadata": {},
   "outputs": [],
   "source": [
    "import numpy as np\n",
    "import pandas as pd\n",
    "import matplotlib.pyplot as plt\n",
    "import seaborn as sns\n",
    "import json\n",
    "from joblib import dump, load\n",
    "import joblib\n",
    "import mlflow\n",
    "import mlflow.sklearn\n",
    "from mlflow.models.signature import infer_signature\n",
    "from sklearn.model_selection import train_test_split, cross_val_score, KFold, GridSearchCV\n",
    "from sklearn.preprocessing import StandardScaler, MinMaxScaler, RobustScaler, PolynomialFeatures\n",
    "from sklearn.linear_model import LinearRegression, Ridge, Lasso, ElasticNet\n",
    "from sklearn.tree import DecisionTreeRegressor\n",
    "from sklearn.ensemble import RandomForestRegressor\n",
    "from sklearn.svm import SVR\n",
    "from sklearn.neighbors import KNeighborsRegressor\n",
    "from xgboost import XGBRegressor\n",
    "from sklearn.metrics import mean_squared_error, r2_score, mean_absolute_error"
   ]
  },
  {
   "cell_type": "code",
   "execution_count": 2,
   "metadata": {},
   "outputs": [],
   "source": [
    "mlflow.set_tracking_uri(\"file:///C:/Users/BW/Desktop/ML project/notebook/mlruns\")"
   ]
  },
  {
   "cell_type": "markdown",
   "metadata": {},
   "source": [
    "### **Loading the dataset**"
   ]
  },
  {
   "cell_type": "code",
   "execution_count": 3,
   "metadata": {},
   "outputs": [
    {
     "data": {
      "text/html": [
       "<div>\n",
       "<style scoped>\n",
       "    .dataframe tbody tr th:only-of-type {\n",
       "        vertical-align: middle;\n",
       "    }\n",
       "\n",
       "    .dataframe tbody tr th {\n",
       "        vertical-align: top;\n",
       "    }\n",
       "\n",
       "    .dataframe thead th {\n",
       "        text-align: right;\n",
       "    }\n",
       "</style>\n",
       "<table border=\"1\" class=\"dataframe\">\n",
       "  <thead>\n",
       "    <tr style=\"text-align: right;\">\n",
       "      <th></th>\n",
       "      <th>Number_of_Customers_Per_Day</th>\n",
       "      <th>Average_Order_Value</th>\n",
       "      <th>Operating_Hours_Per_Day</th>\n",
       "      <th>Number_of_Employees</th>\n",
       "      <th>Marketing_Spend_Per_Day</th>\n",
       "      <th>Location_Foot_Traffic</th>\n",
       "      <th>Daily_Revenue</th>\n",
       "    </tr>\n",
       "  </thead>\n",
       "  <tbody>\n",
       "    <tr>\n",
       "      <th>0</th>\n",
       "      <td>152</td>\n",
       "      <td>6.74</td>\n",
       "      <td>14</td>\n",
       "      <td>4</td>\n",
       "      <td>106.62</td>\n",
       "      <td>97</td>\n",
       "      <td>1547.81</td>\n",
       "    </tr>\n",
       "    <tr>\n",
       "      <th>1</th>\n",
       "      <td>485</td>\n",
       "      <td>4.50</td>\n",
       "      <td>12</td>\n",
       "      <td>8</td>\n",
       "      <td>57.83</td>\n",
       "      <td>744</td>\n",
       "      <td>2084.68</td>\n",
       "    </tr>\n",
       "    <tr>\n",
       "      <th>2</th>\n",
       "      <td>398</td>\n",
       "      <td>9.09</td>\n",
       "      <td>6</td>\n",
       "      <td>6</td>\n",
       "      <td>91.76</td>\n",
       "      <td>636</td>\n",
       "      <td>3118.39</td>\n",
       "    </tr>\n",
       "    <tr>\n",
       "      <th>3</th>\n",
       "      <td>320</td>\n",
       "      <td>8.48</td>\n",
       "      <td>17</td>\n",
       "      <td>4</td>\n",
       "      <td>462.63</td>\n",
       "      <td>770</td>\n",
       "      <td>2912.20</td>\n",
       "    </tr>\n",
       "    <tr>\n",
       "      <th>4</th>\n",
       "      <td>156</td>\n",
       "      <td>7.44</td>\n",
       "      <td>17</td>\n",
       "      <td>2</td>\n",
       "      <td>412.52</td>\n",
       "      <td>232</td>\n",
       "      <td>1663.42</td>\n",
       "    </tr>\n",
       "  </tbody>\n",
       "</table>\n",
       "</div>"
      ],
      "text/plain": [
       "   Number_of_Customers_Per_Day  Average_Order_Value  Operating_Hours_Per_Day  \\\n",
       "0                          152                 6.74                       14   \n",
       "1                          485                 4.50                       12   \n",
       "2                          398                 9.09                        6   \n",
       "3                          320                 8.48                       17   \n",
       "4                          156                 7.44                       17   \n",
       "\n",
       "   Number_of_Employees  Marketing_Spend_Per_Day  Location_Foot_Traffic  \\\n",
       "0                    4                   106.62                     97   \n",
       "1                    8                    57.83                    744   \n",
       "2                    6                    91.76                    636   \n",
       "3                    4                   462.63                    770   \n",
       "4                    2                   412.52                    232   \n",
       "\n",
       "   Daily_Revenue  \n",
       "0        1547.81  \n",
       "1        2084.68  \n",
       "2        3118.39  \n",
       "3        2912.20  \n",
       "4        1663.42  "
      ]
     },
     "execution_count": 3,
     "metadata": {},
     "output_type": "execute_result"
    }
   ],
   "source": [
    "data = pd.read_csv('coffee_shop_revenue.csv')\n",
    "data.head()"
   ]
  },
  {
   "cell_type": "code",
   "execution_count": 4,
   "metadata": {},
   "outputs": [
    {
     "data": {
      "text/plain": [
       "(2000, 7)"
      ]
     },
     "execution_count": 4,
     "metadata": {},
     "output_type": "execute_result"
    }
   ],
   "source": [
    "data.shape"
   ]
  },
  {
   "cell_type": "code",
   "execution_count": 5,
   "metadata": {},
   "outputs": [
    {
     "name": "stdout",
     "output_type": "stream",
     "text": [
      "<class 'pandas.core.frame.DataFrame'>\n",
      "RangeIndex: 2000 entries, 0 to 1999\n",
      "Data columns (total 7 columns):\n",
      " #   Column                       Non-Null Count  Dtype  \n",
      "---  ------                       --------------  -----  \n",
      " 0   Number_of_Customers_Per_Day  2000 non-null   int64  \n",
      " 1   Average_Order_Value          2000 non-null   float64\n",
      " 2   Operating_Hours_Per_Day      2000 non-null   int64  \n",
      " 3   Number_of_Employees          2000 non-null   int64  \n",
      " 4   Marketing_Spend_Per_Day      2000 non-null   float64\n",
      " 5   Location_Foot_Traffic        2000 non-null   int64  \n",
      " 6   Daily_Revenue                2000 non-null   float64\n",
      "dtypes: float64(3), int64(4)\n",
      "memory usage: 109.5 KB\n"
     ]
    }
   ],
   "source": [
    "data.info()"
   ]
  },
  {
   "cell_type": "code",
   "execution_count": 6,
   "metadata": {},
   "outputs": [
    {
     "data": {
      "text/html": [
       "<div>\n",
       "<style scoped>\n",
       "    .dataframe tbody tr th:only-of-type {\n",
       "        vertical-align: middle;\n",
       "    }\n",
       "\n",
       "    .dataframe tbody tr th {\n",
       "        vertical-align: top;\n",
       "    }\n",
       "\n",
       "    .dataframe thead th {\n",
       "        text-align: right;\n",
       "    }\n",
       "</style>\n",
       "<table border=\"1\" class=\"dataframe\">\n",
       "  <thead>\n",
       "    <tr style=\"text-align: right;\">\n",
       "      <th></th>\n",
       "      <th>Number_of_Customers_Per_Day</th>\n",
       "      <th>Average_Order_Value</th>\n",
       "      <th>Operating_Hours_Per_Day</th>\n",
       "      <th>Number_of_Employees</th>\n",
       "      <th>Marketing_Spend_Per_Day</th>\n",
       "      <th>Location_Foot_Traffic</th>\n",
       "      <th>Daily_Revenue</th>\n",
       "    </tr>\n",
       "  </thead>\n",
       "  <tbody>\n",
       "    <tr>\n",
       "      <th>count</th>\n",
       "      <td>2000.000000</td>\n",
       "      <td>2000.000000</td>\n",
       "      <td>2000.000000</td>\n",
       "      <td>2000.000000</td>\n",
       "      <td>2000.000000</td>\n",
       "      <td>2000.000000</td>\n",
       "      <td>2000.000000</td>\n",
       "    </tr>\n",
       "    <tr>\n",
       "      <th>mean</th>\n",
       "      <td>274.296000</td>\n",
       "      <td>6.261215</td>\n",
       "      <td>11.667000</td>\n",
       "      <td>7.947000</td>\n",
       "      <td>252.614160</td>\n",
       "      <td>534.893500</td>\n",
       "      <td>1917.325940</td>\n",
       "    </tr>\n",
       "    <tr>\n",
       "      <th>std</th>\n",
       "      <td>129.441933</td>\n",
       "      <td>2.175832</td>\n",
       "      <td>3.438608</td>\n",
       "      <td>3.742218</td>\n",
       "      <td>141.136004</td>\n",
       "      <td>271.662295</td>\n",
       "      <td>976.202746</td>\n",
       "    </tr>\n",
       "    <tr>\n",
       "      <th>min</th>\n",
       "      <td>50.000000</td>\n",
       "      <td>2.500000</td>\n",
       "      <td>6.000000</td>\n",
       "      <td>2.000000</td>\n",
       "      <td>10.120000</td>\n",
       "      <td>50.000000</td>\n",
       "      <td>-58.950000</td>\n",
       "    </tr>\n",
       "    <tr>\n",
       "      <th>25%</th>\n",
       "      <td>164.000000</td>\n",
       "      <td>4.410000</td>\n",
       "      <td>9.000000</td>\n",
       "      <td>5.000000</td>\n",
       "      <td>130.125000</td>\n",
       "      <td>302.000000</td>\n",
       "      <td>1140.085000</td>\n",
       "    </tr>\n",
       "    <tr>\n",
       "      <th>50%</th>\n",
       "      <td>275.000000</td>\n",
       "      <td>6.300000</td>\n",
       "      <td>12.000000</td>\n",
       "      <td>8.000000</td>\n",
       "      <td>250.995000</td>\n",
       "      <td>540.000000</td>\n",
       "      <td>1770.775000</td>\n",
       "    </tr>\n",
       "    <tr>\n",
       "      <th>75%</th>\n",
       "      <td>386.000000</td>\n",
       "      <td>8.120000</td>\n",
       "      <td>15.000000</td>\n",
       "      <td>11.000000</td>\n",
       "      <td>375.352500</td>\n",
       "      <td>767.000000</td>\n",
       "      <td>2530.455000</td>\n",
       "    </tr>\n",
       "    <tr>\n",
       "      <th>max</th>\n",
       "      <td>499.000000</td>\n",
       "      <td>10.000000</td>\n",
       "      <td>17.000000</td>\n",
       "      <td>14.000000</td>\n",
       "      <td>499.740000</td>\n",
       "      <td>999.000000</td>\n",
       "      <td>5114.600000</td>\n",
       "    </tr>\n",
       "  </tbody>\n",
       "</table>\n",
       "</div>"
      ],
      "text/plain": [
       "       Number_of_Customers_Per_Day  Average_Order_Value  \\\n",
       "count                  2000.000000          2000.000000   \n",
       "mean                    274.296000             6.261215   \n",
       "std                     129.441933             2.175832   \n",
       "min                      50.000000             2.500000   \n",
       "25%                     164.000000             4.410000   \n",
       "50%                     275.000000             6.300000   \n",
       "75%                     386.000000             8.120000   \n",
       "max                     499.000000            10.000000   \n",
       "\n",
       "       Operating_Hours_Per_Day  Number_of_Employees  Marketing_Spend_Per_Day  \\\n",
       "count              2000.000000          2000.000000              2000.000000   \n",
       "mean                 11.667000             7.947000               252.614160   \n",
       "std                   3.438608             3.742218               141.136004   \n",
       "min                   6.000000             2.000000                10.120000   \n",
       "25%                   9.000000             5.000000               130.125000   \n",
       "50%                  12.000000             8.000000               250.995000   \n",
       "75%                  15.000000            11.000000               375.352500   \n",
       "max                  17.000000            14.000000               499.740000   \n",
       "\n",
       "       Location_Foot_Traffic  Daily_Revenue  \n",
       "count            2000.000000    2000.000000  \n",
       "mean              534.893500    1917.325940  \n",
       "std               271.662295     976.202746  \n",
       "min                50.000000     -58.950000  \n",
       "25%               302.000000    1140.085000  \n",
       "50%               540.000000    1770.775000  \n",
       "75%               767.000000    2530.455000  \n",
       "max               999.000000    5114.600000  "
      ]
     },
     "execution_count": 6,
     "metadata": {},
     "output_type": "execute_result"
    }
   ],
   "source": [
    "data.describe()"
   ]
  },
  {
   "cell_type": "code",
   "execution_count": 7,
   "metadata": {},
   "outputs": [
    {
     "data": {
      "text/plain": [
       "Number_of_Customers_Per_Day    0\n",
       "Average_Order_Value            0\n",
       "Operating_Hours_Per_Day        0\n",
       "Number_of_Employees            0\n",
       "Marketing_Spend_Per_Day        0\n",
       "Location_Foot_Traffic          0\n",
       "Daily_Revenue                  0\n",
       "dtype: int64"
      ]
     },
     "execution_count": 7,
     "metadata": {},
     "output_type": "execute_result"
    }
   ],
   "source": [
    "data.isnull().sum()"
   ]
  },
  {
   "cell_type": "markdown",
   "metadata": {},
   "source": [
    "### **Model training to get baseline metrics**"
   ]
  },
  {
   "cell_type": "code",
   "execution_count": null,
   "metadata": {},
   "outputs": [],
   "source": [
    "models_dict = {\n",
    "    \"LinearRegression\": LinearRegression(),\n",
    "    \"Ridge\": Ridge(),\n",
    "    \"Lasso\": Lasso(),\n",
    "    \"ElasticNet\": ElasticNet(),\n",
    "    \"DecisionTreeRegressor\": DecisionTreeRegressor(),\n",
    "    \"RandomForestRegressor\": RandomForestRegressor(),\n",
    "    \"SVR\": SVR(),\n",
    "    \"XGBoostRegressor\": XGBRegressor(),\n",
    "    \"KNN\": KNeighborsRegressor()\n",
    "}\n",
    "\n",
    "def get_baseline_metrics(models_dict, xtrain, ytrain, experiment_name):\n",
    "    cv_type = KFold(n_splits=5, shuffle=True, random_state=3)\n",
    "    mlflow.set_experiment(experiment_name)\n",
    "\n",
    "    for model_name, model in models_dict.items():\n",
    "        print(f\"Training model: {model_name}\")\n",
    "        with mlflow.start_run(run_name=model_name):\n",
    "            r2_mean = np.mean(cross_val_score(model, xtrain, ytrain, cv=cv_type, scoring='r2'))\n",
    "            mae_mean = -np.mean(cross_val_score(model, xtrain, ytrain, cv=cv_type, scoring='neg_mean_absolute_error'))\n",
    "            rmse_mean = -np.mean(cross_val_score(model, xtrain, ytrain, cv=cv_type, scoring='neg_root_mean_squared_error'))\n",
    "\n",
    "            mlflow.log_param(\"CV_Type\", \"KFold\")\n",
    "            mlflow.log_param(\"CV_n_splits\", cv_type.n_splits)\n",
    "            mlflow.log_param(\"CV_shuffle\", cv_type.shuffle)\n",
    "            mlflow.log_param(\"CV_random_state\", cv_type.random_state)\n",
    "\n",
    "            mlflow.log_param(\"Model_Name\", model_name)\n",
    "            mlflow.log_metric(\"R2_score\", round(r2_mean, 4))\n",
    "            mlflow.log_metric(\"MAE\", round(mae_mean, 4))\n",
    "            mlflow.log_metric(\"RMSE\", round(rmse_mean, 4))\n",
    "\n",
    "            print(f\"R2 Score: {r2_mean:.4f}\")\n",
    "            print(f\"MAE: {mae_mean:.4f}\")\n",
    "            print(f\"RMSE: {rmse_mean:.4f}\")\n",
    "            print('-' * 35)"
   ]
  },
  {
   "cell_type": "code",
   "execution_count": 9,
   "metadata": {},
   "outputs": [],
   "source": [
    "# Function to get metrics\n",
    "def get_metrics(ytest, ypred):\n",
    "    r2 = r2_score(ytest, ypred)\n",
    "    mae = mean_absolute_error(ytest, ypred)\n",
    "    rmse = np.sqrt(mean_squared_error(ytest, ypred))\n",
    "    print(f\"R2 score: {r2}\")\n",
    "    print(f\"MAE: {mae}\")\n",
    "    print(f\"RMSE: {rmse}\")"
   ]
  },
  {
   "cell_type": "code",
   "execution_count": 10,
   "metadata": {},
   "outputs": [],
   "source": [
    "# Splitting  the dataset\n",
    "x = data.drop(columns='Daily_Revenue')\n",
    "y = data['Daily_Revenue']\n",
    "\n",
    "xtrain, xtest, ytrain, ytest = train_test_split(x, y, test_size=0.2, random_state=2)"
   ]
  },
  {
   "cell_type": "code",
   "execution_count": 11,
   "metadata": {},
   "outputs": [
    {
     "data": {
      "text/plain": [
       "(1600, 6)"
      ]
     },
     "execution_count": 11,
     "metadata": {},
     "output_type": "execute_result"
    }
   ],
   "source": [
    "xtrain.shape"
   ]
  },
  {
   "cell_type": "code",
   "execution_count": 12,
   "metadata": {},
   "outputs": [
    {
     "name": "stderr",
     "output_type": "stream",
     "text": [
      "2025/04/03 11:36:42 INFO mlflow.tracking.fluent: Experiment with name 'Baseline metrics using Kfold cv (train splits only)' does not exist. Creating a new experiment.\n"
     ]
    },
    {
     "name": "stdout",
     "output_type": "stream",
     "text": [
      "Training model: LinearRegression\n",
      "R2 Score: 0.8899\n",
      "MAE: 254.3337\n",
      "RMSE: 322.8229\n",
      "-----------------------------------\n",
      "Training model: Ridge\n",
      "R2 Score: 0.8899\n",
      "MAE: 254.3352\n",
      "RMSE: 322.8226\n",
      "-----------------------------------\n",
      "Training model: Lasso\n",
      "R2 Score: 0.8899\n",
      "MAE: 254.3367\n",
      "RMSE: 322.8074\n",
      "-----------------------------------\n",
      "Training model: ElasticNet\n",
      "R2 Score: 0.8872\n",
      "MAE: 257.1948\n",
      "RMSE: 326.6081\n",
      "-----------------------------------\n",
      "Training model: DecisionTreeRegressor\n",
      "R2 Score: 0.8769\n",
      "MAE: 275.3707\n",
      "RMSE: 342.0766\n",
      "-----------------------------------\n",
      "Training model: RandomForestRegressor\n",
      "R2 Score: 0.9412\n",
      "MAE: 188.2082\n",
      "RMSE: 234.3118\n",
      "-----------------------------------\n",
      "Training model: SVR\n",
      "R2 Score: 0.0465\n",
      "MAE: 758.9373\n",
      "RMSE: 952.5776\n",
      "-----------------------------------\n",
      "Training model: XGBoostRegressor\n",
      "R2 Score: 0.9362\n",
      "MAE: 195.5885\n",
      "RMSE: 245.4415\n",
      "-----------------------------------\n",
      "Training model: KNN\n",
      "R2 Score: 0.5278\n",
      "MAE: 527.6643\n",
      "RMSE: 668.3486\n",
      "-----------------------------------\n"
     ]
    }
   ],
   "source": [
    "get_baseline_metrics(models_dict, xtrain, ytrain, 'Baseline metrics using Kfold cv (train splits only)')"
   ]
  },
  {
   "cell_type": "markdown",
   "metadata": {},
   "source": [
    "- **From the EDA correlation analysis, only 3 features show good to weak correlation with the target variable. To evaluate potential improvement, models will be tested using only these 3 correlated features while excluding the remaining ones.**"
   ]
  },
  {
   "cell_type": "code",
   "execution_count": 13,
   "metadata": {},
   "outputs": [],
   "source": [
    "xtrain_dropped_feat = xtrain.drop(columns=['Operating_Hours_Per_Day', 'Location_Foot_Traffic', 'Number_of_Employees'])\n",
    "xtest_dropped_feat = xtest.drop(columns=['Operating_Hours_Per_Day', 'Location_Foot_Traffic', 'Number_of_Employees'])"
   ]
  },
  {
   "cell_type": "code",
   "execution_count": 14,
   "metadata": {},
   "outputs": [
    {
     "data": {
      "text/html": [
       "<div>\n",
       "<style scoped>\n",
       "    .dataframe tbody tr th:only-of-type {\n",
       "        vertical-align: middle;\n",
       "    }\n",
       "\n",
       "    .dataframe tbody tr th {\n",
       "        vertical-align: top;\n",
       "    }\n",
       "\n",
       "    .dataframe thead th {\n",
       "        text-align: right;\n",
       "    }\n",
       "</style>\n",
       "<table border=\"1\" class=\"dataframe\">\n",
       "  <thead>\n",
       "    <tr style=\"text-align: right;\">\n",
       "      <th></th>\n",
       "      <th>Number_of_Customers_Per_Day</th>\n",
       "      <th>Average_Order_Value</th>\n",
       "      <th>Marketing_Spend_Per_Day</th>\n",
       "    </tr>\n",
       "  </thead>\n",
       "  <tbody>\n",
       "    <tr>\n",
       "      <th>333</th>\n",
       "      <td>196</td>\n",
       "      <td>8.56</td>\n",
       "      <td>417.65</td>\n",
       "    </tr>\n",
       "    <tr>\n",
       "      <th>721</th>\n",
       "      <td>102</td>\n",
       "      <td>9.89</td>\n",
       "      <td>247.26</td>\n",
       "    </tr>\n",
       "  </tbody>\n",
       "</table>\n",
       "</div>"
      ],
      "text/plain": [
       "     Number_of_Customers_Per_Day  Average_Order_Value  Marketing_Spend_Per_Day\n",
       "333                          196                 8.56                   417.65\n",
       "721                          102                 9.89                   247.26"
      ]
     },
     "execution_count": 14,
     "metadata": {},
     "output_type": "execute_result"
    }
   ],
   "source": [
    "xtrain_dropped_feat.head(2)"
   ]
  },
  {
   "cell_type": "code",
   "execution_count": 15,
   "metadata": {},
   "outputs": [
    {
     "data": {
      "text/html": [
       "<div>\n",
       "<style scoped>\n",
       "    .dataframe tbody tr th:only-of-type {\n",
       "        vertical-align: middle;\n",
       "    }\n",
       "\n",
       "    .dataframe tbody tr th {\n",
       "        vertical-align: top;\n",
       "    }\n",
       "\n",
       "    .dataframe thead th {\n",
       "        text-align: right;\n",
       "    }\n",
       "</style>\n",
       "<table border=\"1\" class=\"dataframe\">\n",
       "  <thead>\n",
       "    <tr style=\"text-align: right;\">\n",
       "      <th></th>\n",
       "      <th>Number_of_Customers_Per_Day</th>\n",
       "      <th>Average_Order_Value</th>\n",
       "      <th>Marketing_Spend_Per_Day</th>\n",
       "    </tr>\n",
       "  </thead>\n",
       "  <tbody>\n",
       "    <tr>\n",
       "      <th>278</th>\n",
       "      <td>421</td>\n",
       "      <td>6.30</td>\n",
       "      <td>87.03</td>\n",
       "    </tr>\n",
       "    <tr>\n",
       "      <th>492</th>\n",
       "      <td>239</td>\n",
       "      <td>4.26</td>\n",
       "      <td>192.94</td>\n",
       "    </tr>\n",
       "  </tbody>\n",
       "</table>\n",
       "</div>"
      ],
      "text/plain": [
       "     Number_of_Customers_Per_Day  Average_Order_Value  Marketing_Spend_Per_Day\n",
       "278                          421                 6.30                    87.03\n",
       "492                          239                 4.26                   192.94"
      ]
     },
     "execution_count": 15,
     "metadata": {},
     "output_type": "execute_result"
    }
   ],
   "source": [
    "xtest_dropped_feat.head(2)"
   ]
  },
  {
   "cell_type": "code",
   "execution_count": 18,
   "metadata": {},
   "outputs": [
    {
     "name": "stderr",
     "output_type": "stream",
     "text": [
      "2025/04/03 11:41:59 INFO mlflow.tracking.fluent: Experiment with name 'Baseline Metrics with Key Features' does not exist. Creating a new experiment.\n"
     ]
    },
    {
     "name": "stdout",
     "output_type": "stream",
     "text": [
      "Training model: LinearRegression\n",
      "R2 Score: 0.8904\n",
      "MAE: 253.8684\n",
      "RMSE: 322.0398\n",
      "-----------------------------------\n",
      "Training model: Ridge\n",
      "R2 Score: 0.8904\n",
      "MAE: 253.8697\n",
      "RMSE: 322.0398\n",
      "-----------------------------------\n",
      "Training model: Lasso\n",
      "R2 Score: 0.8904\n",
      "MAE: 253.8754\n",
      "RMSE: 322.0401\n",
      "-----------------------------------\n",
      "Training model: ElasticNet\n",
      "R2 Score: 0.8876\n",
      "MAE: 256.8567\n",
      "RMSE: 325.9796\n",
      "-----------------------------------\n",
      "Training model: DecisionTreeRegressor\n",
      "R2 Score: 0.8910\n",
      "MAE: 257.5377\n",
      "RMSE: 317.0300\n",
      "-----------------------------------\n",
      "Training model: RandomForestRegressor\n",
      "R2 Score: 0.9439\n",
      "MAE: 186.4513\n",
      "RMSE: 232.4030\n",
      "-----------------------------------\n",
      "Training model: SVR\n",
      "R2 Score: 0.1466\n",
      "MAE: 712.5067\n",
      "RMSE: 901.1858\n",
      "-----------------------------------\n",
      "Training model: XGBoostRegressor\n",
      "R2 Score: 0.9374\n",
      "MAE: 195.9694\n",
      "RMSE: 243.2057\n",
      "-----------------------------------\n",
      "Training model: KNN\n",
      "R2 Score: 0.5432\n",
      "MAE: 515.5839\n",
      "RMSE: 656.5906\n",
      "-----------------------------------\n"
     ]
    }
   ],
   "source": [
    "get_baseline_metrics(models_dict, xtrain_dropped_feat, ytrain, 'Baseline Metrics with Key Features')"
   ]
  },
  {
   "cell_type": "markdown",
   "metadata": {},
   "source": [
    "### **Baseline Metrics Analysis**\n",
    "\n",
    "To assess the impact of feature selection, i compared the baseline metrics before and after dropping three low-correlation features:  \n",
    "- **Operating_Hours_Per_Day** (-0.0053 correlation)  \n",
    "- **Number_of_Employees** (0.0033 correlation)  \n",
    "- **Location_Foot_Traffic** (0.0134 correlation)  \n",
    "\n",
    "#### **Key Observations:**\n",
    "**Slight Improvement in Linear Models:**  \n",
    "- R² for **LinearRegression, Ridge, and Lasso** improved slightly (~0.0005).  \n",
    "- **MAE and RMSE** slightly decreased, indicating better predictions.  \n",
    "\n",
    "**DecisionTreeRegressor Performed Better:**  \n",
    "- R² improved from **0.8769 → 0.8910**, and RMSE decreased.  \n",
    "\n",
    "**RandomForest and XGBoost Still Strong Performers:**  \n",
    "- **RandomForest R²:** **0.9412 → 0.9439**  \n",
    "- **XGBoost R²:** **0.9362 → 0.9374**  \n",
    "- MAE and RMSE improved slightly.  \n",
    "\n",
    "**SVR and KNN Still Weak Models:**  \n",
    "- **SVR improved slightly** but remains ineffective (low R², high MAE).  \n",
    "- **KNN improved marginally**, but its performance is still subpar.  \n",
    "\n",
    "#### **Conclusion:**\n",
    "Removing low-impact features resulted in a **slight performance boost** across most models, particularly **Linear Regression, Decision Tree, and Ensemble Models (Random Forest & XGBoost)**. These results justify **feature selection** as a valuable preprocessing step before model tuning."
   ]
  },
  {
   "cell_type": "markdown",
   "metadata": {},
   "source": [
    "## "
   ]
  },
  {
   "cell_type": "code",
   "execution_count": 43,
   "metadata": {},
   "outputs": [
    {
     "data": {
      "text/html": [
       "<div>\n",
       "<style scoped>\n",
       "    .dataframe tbody tr th:only-of-type {\n",
       "        vertical-align: middle;\n",
       "    }\n",
       "\n",
       "    .dataframe tbody tr th {\n",
       "        vertical-align: top;\n",
       "    }\n",
       "\n",
       "    .dataframe thead th {\n",
       "        text-align: right;\n",
       "    }\n",
       "</style>\n",
       "<table border=\"1\" class=\"dataframe\">\n",
       "  <thead>\n",
       "    <tr style=\"text-align: right;\">\n",
       "      <th></th>\n",
       "      <th>Number_of_Customers_Per_Day</th>\n",
       "      <th>Average_Order_Value</th>\n",
       "      <th>Marketing_Spend_Per_Day</th>\n",
       "    </tr>\n",
       "  </thead>\n",
       "  <tbody>\n",
       "    <tr>\n",
       "      <th>333</th>\n",
       "      <td>196</td>\n",
       "      <td>8.56</td>\n",
       "      <td>417.65</td>\n",
       "    </tr>\n",
       "    <tr>\n",
       "      <th>721</th>\n",
       "      <td>102</td>\n",
       "      <td>9.89</td>\n",
       "      <td>247.26</td>\n",
       "    </tr>\n",
       "    <tr>\n",
       "      <th>1352</th>\n",
       "      <td>343</td>\n",
       "      <td>6.19</td>\n",
       "      <td>282.79</td>\n",
       "    </tr>\n",
       "    <tr>\n",
       "      <th>1680</th>\n",
       "      <td>95</td>\n",
       "      <td>4.17</td>\n",
       "      <td>338.11</td>\n",
       "    </tr>\n",
       "    <tr>\n",
       "      <th>156</th>\n",
       "      <td>54</td>\n",
       "      <td>7.80</td>\n",
       "      <td>185.78</td>\n",
       "    </tr>\n",
       "  </tbody>\n",
       "</table>\n",
       "</div>"
      ],
      "text/plain": [
       "      Number_of_Customers_Per_Day  Average_Order_Value  \\\n",
       "333                           196                 8.56   \n",
       "721                           102                 9.89   \n",
       "1352                          343                 6.19   \n",
       "1680                           95                 4.17   \n",
       "156                            54                 7.80   \n",
       "\n",
       "      Marketing_Spend_Per_Day  \n",
       "333                    417.65  \n",
       "721                    247.26  \n",
       "1352                   282.79  \n",
       "1680                   338.11  \n",
       "156                    185.78  "
      ]
     },
     "execution_count": 43,
     "metadata": {},
     "output_type": "execute_result"
    }
   ],
   "source": [
    "xtrain_dropped_feat.head()"
   ]
  },
  {
   "cell_type": "code",
   "execution_count": 44,
   "metadata": {},
   "outputs": [
    {
     "data": {
      "text/html": [
       "<div>\n",
       "<style scoped>\n",
       "    .dataframe tbody tr th:only-of-type {\n",
       "        vertical-align: middle;\n",
       "    }\n",
       "\n",
       "    .dataframe tbody tr th {\n",
       "        vertical-align: top;\n",
       "    }\n",
       "\n",
       "    .dataframe thead th {\n",
       "        text-align: right;\n",
       "    }\n",
       "</style>\n",
       "<table border=\"1\" class=\"dataframe\">\n",
       "  <thead>\n",
       "    <tr style=\"text-align: right;\">\n",
       "      <th></th>\n",
       "      <th>Number_of_Customers_Per_Day</th>\n",
       "      <th>Average_Order_Value</th>\n",
       "      <th>Marketing_Spend_Per_Day</th>\n",
       "    </tr>\n",
       "  </thead>\n",
       "  <tbody>\n",
       "    <tr>\n",
       "      <th>278</th>\n",
       "      <td>421</td>\n",
       "      <td>6.30</td>\n",
       "      <td>87.03</td>\n",
       "    </tr>\n",
       "    <tr>\n",
       "      <th>492</th>\n",
       "      <td>239</td>\n",
       "      <td>4.26</td>\n",
       "      <td>192.94</td>\n",
       "    </tr>\n",
       "    <tr>\n",
       "      <th>1266</th>\n",
       "      <td>467</td>\n",
       "      <td>5.91</td>\n",
       "      <td>127.57</td>\n",
       "    </tr>\n",
       "    <tr>\n",
       "      <th>557</th>\n",
       "      <td>434</td>\n",
       "      <td>9.74</td>\n",
       "      <td>359.67</td>\n",
       "    </tr>\n",
       "    <tr>\n",
       "      <th>871</th>\n",
       "      <td>466</td>\n",
       "      <td>6.49</td>\n",
       "      <td>133.48</td>\n",
       "    </tr>\n",
       "  </tbody>\n",
       "</table>\n",
       "</div>"
      ],
      "text/plain": [
       "      Number_of_Customers_Per_Day  Average_Order_Value  \\\n",
       "278                           421                 6.30   \n",
       "492                           239                 4.26   \n",
       "1266                          467                 5.91   \n",
       "557                           434                 9.74   \n",
       "871                           466                 6.49   \n",
       "\n",
       "      Marketing_Spend_Per_Day  \n",
       "278                     87.03  \n",
       "492                    192.94  \n",
       "1266                   127.57  \n",
       "557                    359.67  \n",
       "871                    133.48  "
      ]
     },
     "execution_count": 44,
     "metadata": {},
     "output_type": "execute_result"
    }
   ],
   "source": [
    "xtest_dropped_feat.head()"
   ]
  },
  {
   "cell_type": "markdown",
   "metadata": {},
   "source": [
    "### **Trying to improve linear models(lin reg, l1, l2 and elastic net).**"
   ]
  },
  {
   "cell_type": "code",
   "execution_count": null,
   "metadata": {},
   "outputs": [
    {
     "data": {
      "image/png": "[encoded data removed]",
      "text/plain": [
       "<Figure size 640x480 with 4 Axes>"
      ]
     },
     "metadata": {},
     "output_type": "display_data"
    }
   ],
   "source": [
    "xtrain_dropped_feat.hist(bins=30)\n",
    "plt.show()"
   ]
  },
  {
   "cell_type": "markdown",
   "metadata": {},
   "source": [
    "- Applying log transformation makes the features skewed so transformation step is skipped"
   ]
  },
  {
   "cell_type": "code",
   "execution_count": 57,
   "metadata": {},
   "outputs": [],
   "source": [
    "# Scaling\n",
    "std_scaler = StandardScaler()\n",
    "\n",
    "xtrain_std_scaled = pd.DataFrame(std_scaler.fit_transform(xtrain_dropped_feat), columns=xtrain_dropped_feat.columns)\n",
    "xtest_std_scaled = pd.DataFrame(std_scaler.transform(xtest_dropped_feat), columns=xtest_dropped_feat.columns)"
   ]
  },
  {
   "cell_type": "code",
   "execution_count": 58,
   "metadata": {},
   "outputs": [
    {
     "data": {
      "text/html": [
       "<div>\n",
       "<style scoped>\n",
       "    .dataframe tbody tr th:only-of-type {\n",
       "        vertical-align: middle;\n",
       "    }\n",
       "\n",
       "    .dataframe tbody tr th {\n",
       "        vertical-align: top;\n",
       "    }\n",
       "\n",
       "    .dataframe thead th {\n",
       "        text-align: right;\n",
       "    }\n",
       "</style>\n",
       "<table border=\"1\" class=\"dataframe\">\n",
       "  <thead>\n",
       "    <tr style=\"text-align: right;\">\n",
       "      <th></th>\n",
       "      <th>Number_of_Customers_Per_Day</th>\n",
       "      <th>Average_Order_Value</th>\n",
       "      <th>Marketing_Spend_Per_Day</th>\n",
       "    </tr>\n",
       "  </thead>\n",
       "  <tbody>\n",
       "    <tr>\n",
       "      <th>0</th>\n",
       "      <td>-0.594713</td>\n",
       "      <td>1.063727</td>\n",
       "      <td>1.162863</td>\n",
       "    </tr>\n",
       "    <tr>\n",
       "      <th>1</th>\n",
       "      <td>-1.317792</td>\n",
       "      <td>1.672344</td>\n",
       "      <td>-0.034669</td>\n",
       "    </tr>\n",
       "  </tbody>\n",
       "</table>\n",
       "</div>"
      ],
      "text/plain": [
       "   Number_of_Customers_Per_Day  Average_Order_Value  Marketing_Spend_Per_Day\n",
       "0                    -0.594713             1.063727                 1.162863\n",
       "1                    -1.317792             1.672344                -0.034669"
      ]
     },
     "execution_count": 58,
     "metadata": {},
     "output_type": "execute_result"
    }
   ],
   "source": [
    "xtrain_std_scaled.head(2)"
   ]
  },
  {
   "cell_type": "code",
   "execution_count": 59,
   "metadata": {},
   "outputs": [
    {
     "data": {
      "text/html": [
       "<div>\n",
       "<style scoped>\n",
       "    .dataframe tbody tr th:only-of-type {\n",
       "        vertical-align: middle;\n",
       "    }\n",
       "\n",
       "    .dataframe tbody tr th {\n",
       "        vertical-align: top;\n",
       "    }\n",
       "\n",
       "    .dataframe thead th {\n",
       "        text-align: right;\n",
       "    }\n",
       "</style>\n",
       "<table border=\"1\" class=\"dataframe\">\n",
       "  <thead>\n",
       "    <tr style=\"text-align: right;\">\n",
       "      <th></th>\n",
       "      <th>Number_of_Customers_Per_Day</th>\n",
       "      <th>Average_Order_Value</th>\n",
       "      <th>Marketing_Spend_Per_Day</th>\n",
       "    </tr>\n",
       "  </thead>\n",
       "  <tbody>\n",
       "    <tr>\n",
       "      <th>0</th>\n",
       "      <td>1.136061</td>\n",
       "      <td>0.029536</td>\n",
       "      <td>-1.160794</td>\n",
       "    </tr>\n",
       "    <tr>\n",
       "      <th>1</th>\n",
       "      <td>-0.263943</td>\n",
       "      <td>-0.903982</td>\n",
       "      <td>-0.416440</td>\n",
       "    </tr>\n",
       "  </tbody>\n",
       "</table>\n",
       "</div>"
      ],
      "text/plain": [
       "   Number_of_Customers_Per_Day  Average_Order_Value  Marketing_Spend_Per_Day\n",
       "0                     1.136061             0.029536                -1.160794\n",
       "1                    -0.263943            -0.903982                -0.416440"
      ]
     },
     "execution_count": 59,
     "metadata": {},
     "output_type": "execute_result"
    }
   ],
   "source": [
    "xtest_std_scaled.head(2)"
   ]
  },
  {
   "cell_type": "code",
   "execution_count": 60,
   "metadata": {},
   "outputs": [
    {
     "name": "stderr",
     "output_type": "stream",
     "text": [
      "2025/04/03 14:35:06 INFO mlflow.tracking.fluent: Experiment with name 'Key features standard scaled' does not exist. Creating a new experiment.\n"
     ]
    },
    {
     "name": "stdout",
     "output_type": "stream",
     "text": [
      "Training model: LinearRegression\n",
      "R2 Score: 0.8904\n",
      "MAE: 253.8684\n",
      "RMSE: 322.0398\n",
      "-----------------------------------\n",
      "Training model: Ridge\n",
      "R2 Score: 0.8904\n",
      "MAE: 253.8963\n",
      "RMSE: 322.0385\n",
      "-----------------------------------\n",
      "Training model: Lasso\n",
      "R2 Score: 0.8904\n",
      "MAE: 253.9198\n",
      "RMSE: 322.0405\n",
      "-----------------------------------\n",
      "Training model: ElasticNet\n",
      "R2 Score: 0.7931\n",
      "MAE: 345.2430\n",
      "RMSE: 443.3665\n",
      "-----------------------------------\n",
      "Training model: DecisionTreeRegressor\n",
      "R2 Score: 0.8937\n",
      "MAE: 258.5239\n",
      "RMSE: 315.8263\n",
      "-----------------------------------\n",
      "Training model: RandomForestRegressor\n",
      "R2 Score: 0.9428\n",
      "MAE: 187.0007\n",
      "RMSE: 231.7295\n",
      "-----------------------------------\n",
      "Training model: SVR\n",
      "R2 Score: 0.1859\n",
      "MAE: 689.7025\n",
      "RMSE: 880.2349\n",
      "-----------------------------------\n",
      "Training model: XGBoostRegressor\n",
      "R2 Score: 0.9374\n",
      "MAE: 195.9694\n",
      "RMSE: 243.2057\n",
      "-----------------------------------\n",
      "Training model: KNN\n",
      "R2 Score: 0.9396\n",
      "MAE: 189.9169\n",
      "RMSE: 238.3082\n",
      "-----------------------------------\n"
     ]
    }
   ],
   "source": [
    "get_baseline_metrics(models_dict, xtrain_std_scaled, ytrain, 'Key features standard scaled')"
   ]
  },
  {
   "cell_type": "markdown",
   "metadata": {},
   "source": [
    "### **Analysis of Standard Scaling vs. No Scaling Results**\n",
    "\n",
    "#### **1. Impact on Linear Models (Linear Regression, Ridge, Lasso, ElasticNet)**\n",
    "- **Linear Regression & Ridge:** No significant change; scaling had no effect.  \n",
    "- **Lasso:** Slight increase in MAE and RMSE after scaling.  \n",
    "- **ElasticNet:** Performance dropped significantly (**R²: 0.7931 vs. 0.8876** before scaling), indicating sensitivity to scaling.  \n",
    "\n",
    "#### **2. Impact on Tree-Based Models (Decision Tree, Random Forest, XGBoost)**\n",
    "- **DecisionTreeRegressor:** Slight improvement after scaling (**R²: 0.8937 vs. 0.8910**).  \n",
    "- **RandomForestRegressor & XGBoost:** No significant impact, confirming that tree-based models do not require scaling.  \n",
    "\n",
    "#### **3. Impact on Distance-Based Models (SVR, KNN)**\n",
    "- **SVR:** Slight improvement (**R²: 0.1466 → 0.1859**) but still performs poorly.  \n",
    "- **KNN:** Major improvement (**R²: 0.5432 → 0.9396**), highlighting the importance of scaling for distance-based models.  \n",
    "\n",
    "### **Conclusion:**\n",
    "____________________\n",
    "- **Scaling had minimal impact on linear models but hurt ElasticNet.**  \n",
    "- **Tree-based models (Decision Tree, Random Forest, XGBoost) do not need scaling.**  \n",
    "- **Distance-based models (KNN, SVR) benefited from scaling, especially KNN.**  "
   ]
  },
  {
   "cell_type": "markdown",
   "metadata": {},
   "source": [
    "###  "
   ]
  },
  {
   "cell_type": "markdown",
   "metadata": {},
   "source": [
    "**                          **"
   ]
  },
  {
   "cell_type": "markdown",
   "metadata": {},
   "source": [
    "## **Rationale for Hyperparameter Tuning**\n",
    "____________________________________________________\n",
    "\n",
    "### **Why Hyperparameter Tune DecisionTree, RandomForest, XGBoost, and KNN?**\n",
    "- These models have shown **higher performance** than linear models, with **R² > 0.94** in some cases.\n",
    "- They have multiple hyperparameters that **significantly impact performance** and can be optimized for better results.\n",
    "- **KNN benefits from standard scaling**, so tuning its hyperparameters (e.g., `n_neighbors`, `weights`, `metric`) can further improve its performance.\n",
    "\n",
    "### **Why Not Tune Linear Models?**\n",
    "- **LinearRegression, Ridge, and Lasso** already perform well (**R² ≈ 0.89**).\n",
    "- Further tuning (e.g., adjusting `alpha` in Ridge/Lasso) is **unlikely to bring substantial improvements**.\n",
    "\n",
    "### **Why Not Tune SVR?**\n",
    "- SVR performed **significantly worse** (**R² ≈ 0.18**), indicating it is **not well-suited** for this dataset.\n",
    "- Tuning its parameters (e.g., `C`, `epsilon`, `kernel`) is unlikely to bridge the performance gap.\n",
    "- Other models outperform SVR, so focusing on them is a better use of time.\n",
    "\n",
    "### **Conclusion**\n",
    "- Decided to proceed with **hyperparameter tuning for DecisionTree, RandomForest, XGBoost, and KNN** to maximize model performance.  \n",
    "- **Skipping tuning for Linear Models and SVR** due to their **diminishing returns** or poor performance."
   ]
  },
  {
   "cell_type": "code",
   "execution_count": null,
   "metadata": {},
   "outputs": [],
   "source": [
    "# saving splits\n",
    "# xtrain_dropped_feat.to_csv('xtrain split_dropped_features.csv', index=False)\n",
    "# xtest_dropped_feat.to_csv('xtest split_dropped_features.csv', index=False)\n",
    "# ytrain.to_csv('ytrain.csv', index=False)\n",
    "# ytest.to_csv('ytest.csv', index=False)\n",
    "# xtrain_std_scaled.to_csv('xtrain_scaled.csv', index=False)\n",
    "# xtest_std_scaled.to_csv('xtest_scaled.csv', index=False)"
   ]
  },
  {
   "cell_type": "code",
   "execution_count": 3,
   "metadata": {},
   "outputs": [],
   "source": [
    "xtrain_dropped = pd.read_csv(\"xtrain split_dropped_features.csv\")\n",
    "xtest_dropped = pd.read_csv(\"xtest split_dropped_features.csv\")\n",
    "xtrain_scaled = pd.read_csv(\"xtrain_scaled.csv\")\n",
    "xtest_scaled = pd.read_csv(\"xtest_scaled.csv\")\n",
    "ytrain = pd.read_csv('ytrain.csv')\n",
    "ytest = pd.read_csv('ytest.csv')"
   ]
  },
  {
   "cell_type": "code",
   "execution_count": 4,
   "metadata": {},
   "outputs": [
    {
     "data": {
      "text/html": [
       "<div>\n",
       "<style scoped>\n",
       "    .dataframe tbody tr th:only-of-type {\n",
       "        vertical-align: middle;\n",
       "    }\n",
       "\n",
       "    .dataframe tbody tr th {\n",
       "        vertical-align: top;\n",
       "    }\n",
       "\n",
       "    .dataframe thead th {\n",
       "        text-align: right;\n",
       "    }\n",
       "</style>\n",
       "<table border=\"1\" class=\"dataframe\">\n",
       "  <thead>\n",
       "    <tr style=\"text-align: right;\">\n",
       "      <th></th>\n",
       "      <th>Number_of_Customers_Per_Day</th>\n",
       "      <th>Average_Order_Value</th>\n",
       "      <th>Marketing_Spend_Per_Day</th>\n",
       "    </tr>\n",
       "  </thead>\n",
       "  <tbody>\n",
       "    <tr>\n",
       "      <th>0</th>\n",
       "      <td>196</td>\n",
       "      <td>8.56</td>\n",
       "      <td>417.65</td>\n",
       "    </tr>\n",
       "    <tr>\n",
       "      <th>1</th>\n",
       "      <td>102</td>\n",
       "      <td>9.89</td>\n",
       "      <td>247.26</td>\n",
       "    </tr>\n",
       "  </tbody>\n",
       "</table>\n",
       "</div>"
      ],
      "text/plain": [
       "   Number_of_Customers_Per_Day  Average_Order_Value  Marketing_Spend_Per_Day\n",
       "0                          196                 8.56                   417.65\n",
       "1                          102                 9.89                   247.26"
      ]
     },
     "execution_count": 4,
     "metadata": {},
     "output_type": "execute_result"
    }
   ],
   "source": [
    "xtrain_dropped.head(2)"
   ]
  },
  {
   "cell_type": "code",
   "execution_count": 5,
   "metadata": {},
   "outputs": [
    {
     "data": {
      "text/html": [
       "<div>\n",
       "<style scoped>\n",
       "    .dataframe tbody tr th:only-of-type {\n",
       "        vertical-align: middle;\n",
       "    }\n",
       "\n",
       "    .dataframe tbody tr th {\n",
       "        vertical-align: top;\n",
       "    }\n",
       "\n",
       "    .dataframe thead th {\n",
       "        text-align: right;\n",
       "    }\n",
       "</style>\n",
       "<table border=\"1\" class=\"dataframe\">\n",
       "  <thead>\n",
       "    <tr style=\"text-align: right;\">\n",
       "      <th></th>\n",
       "      <th>Number_of_Customers_Per_Day</th>\n",
       "      <th>Average_Order_Value</th>\n",
       "      <th>Marketing_Spend_Per_Day</th>\n",
       "    </tr>\n",
       "  </thead>\n",
       "  <tbody>\n",
       "    <tr>\n",
       "      <th>0</th>\n",
       "      <td>421</td>\n",
       "      <td>6.30</td>\n",
       "      <td>87.03</td>\n",
       "    </tr>\n",
       "    <tr>\n",
       "      <th>1</th>\n",
       "      <td>239</td>\n",
       "      <td>4.26</td>\n",
       "      <td>192.94</td>\n",
       "    </tr>\n",
       "  </tbody>\n",
       "</table>\n",
       "</div>"
      ],
      "text/plain": [
       "   Number_of_Customers_Per_Day  Average_Order_Value  Marketing_Spend_Per_Day\n",
       "0                          421                 6.30                    87.03\n",
       "1                          239                 4.26                   192.94"
      ]
     },
     "execution_count": 5,
     "metadata": {},
     "output_type": "execute_result"
    }
   ],
   "source": [
    "xtest_dropped.head(2)"
   ]
  },
  {
   "cell_type": "code",
   "execution_count": 6,
   "metadata": {},
   "outputs": [
    {
     "data": {
      "text/html": [
       "<div>\n",
       "<style scoped>\n",
       "    .dataframe tbody tr th:only-of-type {\n",
       "        vertical-align: middle;\n",
       "    }\n",
       "\n",
       "    .dataframe tbody tr th {\n",
       "        vertical-align: top;\n",
       "    }\n",
       "\n",
       "    .dataframe thead th {\n",
       "        text-align: right;\n",
       "    }\n",
       "</style>\n",
       "<table border=\"1\" class=\"dataframe\">\n",
       "  <thead>\n",
       "    <tr style=\"text-align: right;\">\n",
       "      <th></th>\n",
       "      <th>Number_of_Customers_Per_Day</th>\n",
       "      <th>Average_Order_Value</th>\n",
       "      <th>Marketing_Spend_Per_Day</th>\n",
       "    </tr>\n",
       "  </thead>\n",
       "  <tbody>\n",
       "    <tr>\n",
       "      <th>0</th>\n",
       "      <td>-0.594713</td>\n",
       "      <td>1.063727</td>\n",
       "      <td>1.162863</td>\n",
       "    </tr>\n",
       "    <tr>\n",
       "      <th>1</th>\n",
       "      <td>-1.317792</td>\n",
       "      <td>1.672344</td>\n",
       "      <td>-0.034669</td>\n",
       "    </tr>\n",
       "  </tbody>\n",
       "</table>\n",
       "</div>"
      ],
      "text/plain": [
       "   Number_of_Customers_Per_Day  Average_Order_Value  Marketing_Spend_Per_Day\n",
       "0                    -0.594713             1.063727                 1.162863\n",
       "1                    -1.317792             1.672344                -0.034669"
      ]
     },
     "execution_count": 6,
     "metadata": {},
     "output_type": "execute_result"
    }
   ],
   "source": [
    "xtrain_scaled.head(2)"
   ]
  },
  {
   "cell_type": "code",
   "execution_count": 7,
   "metadata": {},
   "outputs": [
    {
     "data": {
      "text/html": [
       "<div>\n",
       "<style scoped>\n",
       "    .dataframe tbody tr th:only-of-type {\n",
       "        vertical-align: middle;\n",
       "    }\n",
       "\n",
       "    .dataframe tbody tr th {\n",
       "        vertical-align: top;\n",
       "    }\n",
       "\n",
       "    .dataframe thead th {\n",
       "        text-align: right;\n",
       "    }\n",
       "</style>\n",
       "<table border=\"1\" class=\"dataframe\">\n",
       "  <thead>\n",
       "    <tr style=\"text-align: right;\">\n",
       "      <th></th>\n",
       "      <th>Number_of_Customers_Per_Day</th>\n",
       "      <th>Average_Order_Value</th>\n",
       "      <th>Marketing_Spend_Per_Day</th>\n",
       "    </tr>\n",
       "  </thead>\n",
       "  <tbody>\n",
       "    <tr>\n",
       "      <th>0</th>\n",
       "      <td>1.136061</td>\n",
       "      <td>0.029536</td>\n",
       "      <td>-1.160794</td>\n",
       "    </tr>\n",
       "    <tr>\n",
       "      <th>1</th>\n",
       "      <td>-0.263943</td>\n",
       "      <td>-0.903982</td>\n",
       "      <td>-0.416440</td>\n",
       "    </tr>\n",
       "  </tbody>\n",
       "</table>\n",
       "</div>"
      ],
      "text/plain": [
       "   Number_of_Customers_Per_Day  Average_Order_Value  Marketing_Spend_Per_Day\n",
       "0                     1.136061             0.029536                -1.160794\n",
       "1                    -0.263943            -0.903982                -0.416440"
      ]
     },
     "execution_count": 7,
     "metadata": {},
     "output_type": "execute_result"
    }
   ],
   "source": [
    "xtest_scaled.head(2)"
   ]
  },
  {
   "cell_type": "code",
   "execution_count": 8,
   "metadata": {},
   "outputs": [
    {
     "data": {
      "text/html": [
       "<div>\n",
       "<style scoped>\n",
       "    .dataframe tbody tr th:only-of-type {\n",
       "        vertical-align: middle;\n",
       "    }\n",
       "\n",
       "    .dataframe tbody tr th {\n",
       "        vertical-align: top;\n",
       "    }\n",
       "\n",
       "    .dataframe thead th {\n",
       "        text-align: right;\n",
       "    }\n",
       "</style>\n",
       "<table border=\"1\" class=\"dataframe\">\n",
       "  <thead>\n",
       "    <tr style=\"text-align: right;\">\n",
       "      <th></th>\n",
       "      <th>Daily_Revenue</th>\n",
       "    </tr>\n",
       "  </thead>\n",
       "  <tbody>\n",
       "    <tr>\n",
       "      <th>0</th>\n",
       "      <td>1823.93</td>\n",
       "    </tr>\n",
       "    <tr>\n",
       "      <th>1</th>\n",
       "      <td>1503.13</td>\n",
       "    </tr>\n",
       "  </tbody>\n",
       "</table>\n",
       "</div>"
      ],
      "text/plain": [
       "   Daily_Revenue\n",
       "0        1823.93\n",
       "1        1503.13"
      ]
     },
     "execution_count": 8,
     "metadata": {},
     "output_type": "execute_result"
    }
   ],
   "source": [
    "ytrain.head(2)"
   ]
  },
  {
   "cell_type": "code",
   "execution_count": 9,
   "metadata": {},
   "outputs": [
    {
     "data": {
      "text/html": [
       "<div>\n",
       "<style scoped>\n",
       "    .dataframe tbody tr th:only-of-type {\n",
       "        vertical-align: middle;\n",
       "    }\n",
       "\n",
       "    .dataframe tbody tr th {\n",
       "        vertical-align: top;\n",
       "    }\n",
       "\n",
       "    .dataframe thead th {\n",
       "        text-align: right;\n",
       "    }\n",
       "</style>\n",
       "<table border=\"1\" class=\"dataframe\">\n",
       "  <thead>\n",
       "    <tr style=\"text-align: right;\">\n",
       "      <th></th>\n",
       "      <th>Daily_Revenue</th>\n",
       "    </tr>\n",
       "  </thead>\n",
       "  <tbody>\n",
       "    <tr>\n",
       "      <th>0</th>\n",
       "      <td>2435.19</td>\n",
       "    </tr>\n",
       "    <tr>\n",
       "      <th>1</th>\n",
       "      <td>1231.43</td>\n",
       "    </tr>\n",
       "  </tbody>\n",
       "</table>\n",
       "</div>"
      ],
      "text/plain": [
       "   Daily_Revenue\n",
       "0        2435.19\n",
       "1        1231.43"
      ]
     },
     "execution_count": 9,
     "metadata": {},
     "output_type": "execute_result"
    }
   ],
   "source": [
    "ytest.head(2)"
   ]
  },
  {
   "cell_type": "code",
   "execution_count": 10,
   "metadata": {},
   "outputs": [],
   "source": [
    "ytrain = ytrain.squeeze()\n",
    "ytest = ytest.squeeze()"
   ]
  },
  {
   "cell_type": "code",
   "execution_count": 11,
   "metadata": {},
   "outputs": [
    {
     "data": {
      "text/plain": [
       "pandas.core.series.Series"
      ]
     },
     "execution_count": 11,
     "metadata": {},
     "output_type": "execute_result"
    }
   ],
   "source": [
    "type(ytrain)"
   ]
  },
  {
   "cell_type": "code",
   "execution_count": 12,
   "metadata": {},
   "outputs": [
    {
     "data": {
      "text/plain": [
       "pandas.core.series.Series"
      ]
     },
     "execution_count": 12,
     "metadata": {},
     "output_type": "execute_result"
    }
   ],
   "source": [
    "type(ytest)"
   ]
  },
  {
   "cell_type": "code",
   "execution_count": 14,
   "metadata": {},
   "outputs": [],
   "source": [
    "param_grid_dtree = {\n",
    "    \"max_depth\": [3, 5, 10, 15, 20, None],\n",
    "    \"min_samples_split\": [2, 5, 10, 20],\n",
    "    \"min_samples_leaf\": [1, 2, 4, 8, 10],\n",
    "    \"max_features\": [\"sqrt\", \"log2\", None],\n",
    "    \"ccp_alpha\": [0.0, 0.01, 0.02, 0.05] \n",
    "}\n",
    "\n",
    "param_grid_xgb = {\n",
    "    \"n_estimators\": [50, 100, 200],  # Number of boosting rounds\n",
    "    \"learning_rate\": [0.01, 0.05, 0.1, 0.2],  # Step size shrinkage\n",
    "    \"max_depth\": [3, 5, 10, 15],  # Tree depth\n",
    "    \"min_child_weight\": [1, 3, 5],  # Minimum sum of weights for child nodes\n",
    "    \"subsample\": [0.6, 0.8, 1.0],  # Subsampling ratio\n",
    "    \"colsample_bytree\": [0.6, 0.8, 1.0],  # Features per tree\n",
    "    \"gamma\": [0, 0.1, 0.2, 0.5]  # Minimum loss reduction for split\n",
    "}\n",
    "\n",
    "param_grid_rf = {\n",
    "    \"n_estimators\": [50, 100, 200],  # Number of trees\n",
    "    \"max_depth\": [3, 5, 10, 15, None],  # Tree depth\n",
    "    \"min_samples_split\": [2, 5, 10],  # Min samples to split a node\n",
    "    \"min_samples_leaf\": [1, 2, 4],  # Min samples per leaf\n",
    "    \"max_features\": [\"sqrt\", \"log2\", None],  # Feature selection strategy\n",
    "    \"bootstrap\": [True, False]  # Whether to use bootstrapping\n",
    "}\n",
    "\n",
    "param_grid_knn = {\n",
    "    \"n_neighbors\": [3, 5, 7, 10],  # Number of neighbors\n",
    "    \"weights\": [\"uniform\", \"distance\"],  # Weighting function\n",
    "    \"metric\": [\"euclidean\", \"manhattan\", \"minkowski\"],  # Distance metric\n",
    "    \"p\": [1, 2]  # `1 = Manhattan`, `2 = Euclidean`\n",
    "}\n",
    "\n",
    "dtree_model = DecisionTreeRegressor(random_state=42)\n",
    "rndf_tree_model = RandomForestRegressor(random_state=43)\n",
    "xgboost_model = XGBRegressor()\n",
    "knn_model = KNeighborsRegressor()"
   ]
  },
  {
   "cell_type": "markdown",
   "metadata": {},
   "source": [
    "### **Hyper-parameter tuning**"
   ]
  },
  {
   "cell_type": "code",
   "execution_count": 15,
   "metadata": {},
   "outputs": [],
   "source": [
    "def hyperparameter_tune(model, param_grid, xtrain, ytrain, xtest, ytest, experiment_name, run_name, model_name, json_filename, model_filename):\n",
    "\n",
    "    mlflow.set_experiment(experiment_name)\n",
    "    grid_search = GridSearchCV(estimator=model, param_grid=param_grid, cv=5, scoring='neg_root_mean_squared_error', n_jobs=-1, refit=True)\n",
    "    \n",
    "    with mlflow.start_run(run_name=run_name):\n",
    "        grid_search.fit(xtrain, ytrain)\n",
    "        \n",
    "        best_params = grid_search.best_params_\n",
    "        best_model = grid_search.best_estimator_\n",
    "        \n",
    "        predictions = best_model.predict(xtest)\n",
    "\n",
    "        mse = mean_squared_error(ytest, predictions)\n",
    "        rmse = np.sqrt(mse)\n",
    "        mae = mean_absolute_error(ytest, predictions)\n",
    "        r2 = r2_score(ytest, predictions)\n",
    "        \n",
    "        signature = infer_signature(xtrain, best_model.predict(xtrain))\n",
    "        \n",
    "        mlflow.log_params(best_params)\n",
    "        mlflow.log_metric(\"RMSE\", rmse)\n",
    "        mlflow.log_metric(\"MAE\", mae)\n",
    "        mlflow.log_metric(\"R2_score\", r2)\n",
    "\n",
    "        with open(json_filename, \"w\") as f:\n",
    "            json.dump(best_params, f)\n",
    "        mlflow.log_artifact(json_filename)\n",
    "\n",
    "        joblib.dump(best_model, model_filename)\n",
    "\n",
    "        mlflow.sklearn.log_model(best_model, artifact_path=model_name, signature=signature)\n",
    "\n",
    "        print('-' * 40)\n",
    "        print(f\"Best Parameters for {model_name}:\", best_params)\n",
    "        print(\"Root Mean Squared Error (RMSE):\", rmse)\n",
    "        print(\"Mean Absolute Error (MAE):\", mae)\n",
    "        print(\"R2 Score:\", r2)\n",
    "        print(f\"Model saved as: {model_filename}\")\n",
    "        print('-' * 40)"
   ]
  },
  {
   "cell_type": "markdown",
   "metadata": {},
   "source": [
    "#### **Hyper-tuning decision tree**"
   ]
  },
  {
   "cell_type": "code",
   "execution_count": 16,
   "metadata": {},
   "outputs": [
    {
     "name": "stderr",
     "output_type": "stream",
     "text": [
      "2025/04/03 17:29:52 INFO mlflow.tracking.fluent: Experiment with name 'Decision tree hyper tuning' does not exist. Creating a new experiment.\n",
      "c:\\Users\\BW\\Desktop\\ML project\\venv\\lib\\site-packages\\mlflow\\types\\utils.py:407: UserWarning: Hint: Inferred schema contains integer column(s). Integer columns in Python cannot represent missing values. If your input data contains missing values at inference time, it will be encoded as floats and will cause a schema enforcement error. The best way to avoid this problem is to infer the model schema based on a realistic data sample (training dataset) that includes missing values. Alternatively, you can declare integer columns as doubles (float64) whenever these columns may have missing values. See `Handling Integers With Missing Values <https://www.mlflow.org/docs/latest/models.html#handling-integers-with-missing-values>`_ for more details.\n",
      "  warnings.warn(\n"
     ]
    },
    {
     "name": "stdout",
     "output_type": "stream",
     "text": [
      "----------------------------------------\n",
      "Best Parameters for Decision tree: {'ccp_alpha': 0.0, 'max_depth': 10, 'max_features': None, 'min_samples_leaf': 4, 'min_samples_split': 10}\n",
      "Root Mean Squared Error (RMSE): 272.0160990439445\n",
      "Mean Absolute Error (MAE): 216.87173287609576\n",
      "R2 Score: 0.9209991623092194\n",
      "Model saved as: Decision tree hypertuned model.pkl\n",
      "----------------------------------------\n"
     ]
    }
   ],
   "source": [
    "hyperparameter_tune(model=dtree_model ,param_grid=param_grid_dtree, xtrain=xtrain_dropped, ytrain=ytrain, xtest=xtest_dropped, ytest=ytest, experiment_name='Decision tree hyper tuning',\n",
    "                    run_name='Decision tree hypertued', model_name='Decision tree', json_filename='decision tree hypertuned parameters.json',\n",
    "                    model_filename='Decision tree hypertuned model.pkl')"
   ]
  },
  {
   "cell_type": "markdown",
   "metadata": {},
   "source": [
    "#### **Hyper-tuning random forest tree**"
   ]
  },
  {
   "cell_type": "code",
   "execution_count": 17,
   "metadata": {},
   "outputs": [
    {
     "name": "stderr",
     "output_type": "stream",
     "text": [
      "2025/04/03 17:30:43 INFO mlflow.tracking.fluent: Experiment with name 'Random forest hypertuned' does not exist. Creating a new experiment.\n",
      "c:\\Users\\BW\\Desktop\\ML project\\venv\\lib\\site-packages\\mlflow\\types\\utils.py:407: UserWarning: Hint: Inferred schema contains integer column(s). Integer columns in Python cannot represent missing values. If your input data contains missing values at inference time, it will be encoded as floats and will cause a schema enforcement error. The best way to avoid this problem is to infer the model schema based on a realistic data sample (training dataset) that includes missing values. Alternatively, you can declare integer columns as doubles (float64) whenever these columns may have missing values. See `Handling Integers With Missing Values <https://www.mlflow.org/docs/latest/models.html#handling-integers-with-missing-values>`_ for more details.\n",
      "  warnings.warn(\n"
     ]
    },
    {
     "name": "stdout",
     "output_type": "stream",
     "text": [
      "----------------------------------------\n",
      "Best Parameters for Random forests: {'bootstrap': True, 'max_depth': 15, 'max_features': None, 'min_samples_leaf': 4, 'min_samples_split': 2, 'n_estimators': 200}\n",
      "Root Mean Squared Error (RMSE): 219.51626437037703\n",
      "Mean Absolute Error (MAE): 176.53068143972763\n",
      "R2 Score: 0.9485511244964846\n",
      "Model saved as: Random forest hypertuned model.pkl\n",
      "----------------------------------------\n"
     ]
    }
   ],
   "source": [
    "hyperparameter_tune(model=rndf_tree_model, param_grid=param_grid_rf, xtrain=xtrain_dropped, ytrain=ytrain, xtest=xtest_dropped, ytest=ytest, experiment_name='Random forest hypertuned',\n",
    "                    run_name='Random forest hypertuned', model_name='Random forests', json_filename='random forests hypertuned parameters.json',\n",
    "                    model_filename='Random forest hypertuned model.pkl')"
   ]
  },
  {
   "cell_type": "markdown",
   "metadata": {},
   "source": [
    "#### **Hyper-tuning xgboost**"
   ]
  },
  {
   "cell_type": "code",
   "execution_count": 18,
   "metadata": {},
   "outputs": [
    {
     "name": "stderr",
     "output_type": "stream",
     "text": [
      "2025/04/03 17:33:57 INFO mlflow.tracking.fluent: Experiment with name 'XGboost hypertuned' does not exist. Creating a new experiment.\n",
      "c:\\Users\\BW\\Desktop\\ML project\\venv\\lib\\site-packages\\mlflow\\types\\utils.py:407: UserWarning: Hint: Inferred schema contains integer column(s). Integer columns in Python cannot represent missing values. If your input data contains missing values at inference time, it will be encoded as floats and will cause a schema enforcement error. The best way to avoid this problem is to infer the model schema based on a realistic data sample (training dataset) that includes missing values. Alternatively, you can declare integer columns as doubles (float64) whenever these columns may have missing values. See `Handling Integers With Missing Values <https://www.mlflow.org/docs/latest/models.html#handling-integers-with-missing-values>`_ for more details.\n",
      "  warnings.warn(\n"
     ]
    },
    {
     "name": "stdout",
     "output_type": "stream",
     "text": [
      "----------------------------------------\n",
      "Best Parameters for XGBoost: {'colsample_bytree': 1.0, 'gamma': 0, 'learning_rate': 0.05, 'max_depth': 3, 'min_child_weight': 5, 'n_estimators': 200, 'subsample': 0.6}\n",
      "Root Mean Squared Error (RMSE): 209.78111570353167\n",
      "Mean Absolute Error (MAE): 168.45049157409667\n",
      "R2 Score: 0.9530132656682702\n",
      "Model saved as: Xgboost hypertuned model.pkl\n",
      "----------------------------------------\n"
     ]
    }
   ],
   "source": [
    "hyperparameter_tune(model=xgboost_model, param_grid=param_grid_xgb, xtrain=xtrain_dropped, ytrain=ytrain, xtest=xtest_dropped, ytest=ytest, experiment_name='XGboost hypertuned',\n",
    "                    run_name='Xgboost hypertuned', model_name='XGBoost', json_filename='xgboost hypertuned parameters.json', model_filename='Xgboost hypertuned model.pkl')"
   ]
  },
  {
   "cell_type": "markdown",
   "metadata": {},
   "source": [
    "#### **Hyper-tuning knn**"
   ]
  },
  {
   "cell_type": "code",
   "execution_count": 19,
   "metadata": {},
   "outputs": [
    {
     "name": "stderr",
     "output_type": "stream",
     "text": [
      "2025/04/03 17:49:39 INFO mlflow.tracking.fluent: Experiment with name 'KNN hypertuned' does not exist. Creating a new experiment.\n"
     ]
    },
    {
     "name": "stdout",
     "output_type": "stream",
     "text": [
      "----------------------------------------\n",
      "Best Parameters for KNN: {'metric': 'euclidean', 'n_neighbors': 10, 'p': 1, 'weights': 'distance'}\n",
      "Root Mean Squared Error (RMSE): 226.57799937697095\n",
      "Mean Absolute Error (MAE): 182.2479566437152\n",
      "R2 Score: 0.9451877088872118\n",
      "Model saved as: Knn hypertuned model.pkl\n",
      "----------------------------------------\n"
     ]
    }
   ],
   "source": [
    "hyperparameter_tune(model=knn_model, param_grid=param_grid_knn, xtrain=xtrain_scaled, ytrain=ytrain, xtest=xtest_scaled, ytest=ytest, experiment_name='KNN hypertuned',\n",
    "                    run_name='Knn hypertuned', model_name='KNN', json_filename='knn hypertuned paramters.json', model_filename='Knn hypertuned model.pkl')"
   ]
  },
  {
   "cell_type": "markdown",
   "metadata": {},
   "source": [
    "## **Hyperparameter Tuning Analysis**\n",
    "\n",
    "### **Decision Tree**\n",
    "- **Best Parameters:** `{'ccp_alpha': 0.0, 'max_depth': 10, 'max_features': None, 'min_samples_leaf': 4, 'min_samples_split': 10}`\n",
    "- **Performance:**\n",
    "  - RMSE: **272.01**\n",
    "  - MAE: **216.87**\n",
    "  - R² Score: **0.920**\n",
    "- **Observation:**  \n",
    "  - Improvement over the baseline model.\n",
    "  - Still performs worse than ensemble models.\n",
    "\n",
    "---\n",
    "\n",
    "### **Random Forest**\n",
    "- **Best Parameters:** `{'bootstrap': True, 'max_depth': 15, 'max_features': None, 'min_samples_leaf': 4, 'min_samples_split': 2, 'n_estimators': 200}`\n",
    "- **Performance:**\n",
    "  - RMSE: **219.51**\n",
    "  - MAE: **176.53**\n",
    "  - R² Score: **0.948**\n",
    "- **Observation:**  \n",
    "  - Significant improvement over Decision Tree.\n",
    "  - Reduced RMSE and MAE, indicating better generalization.\n",
    "\n",
    "---\n",
    "\n",
    "### **XGBoost**\n",
    "- **Best Parameters:** `{'colsample_bytree': 1.0, 'gamma': 0, 'learning_rate': 0.05, 'max_depth': 3, 'min_child_weight': 5, 'n_estimators': 200, 'subsample': 0.6}`\n",
    "- **Performance:**\n",
    "  - RMSE: **209.78**\n",
    "  - MAE: **168.45**\n",
    "  - R² Score: **0.953**\n",
    "- **Observation:**  \n",
    "  - Best-performing model.\n",
    "  - Lowest RMSE and MAE, highest R², making it the most accurate model.\n",
    "\n",
    "---\n",
    "\n",
    "### **K-Nearest Neighbors (KNN)**\n",
    "- **Best Parameters:** `{'metric': 'euclidean', 'n_neighbors': 10, 'p': 1, 'weights': 'distance'}`\n",
    "- **Performance:**\n",
    "  - RMSE: **226.57**\n",
    "  - MAE: **182.24**\n",
    "  - R² Score: **0.945**\n",
    "- **Observation:**  \n",
    "  - Performs better than Decision Tree but worse than ensemble models.\n",
    "  - Higher RMSE than Random Forest and XGBoost.\n",
    "\n",
    "---\n",
    "\n",
    "## **Final Conclusion**\n",
    "- **XGBoost** is the best-performing model, achieving the lowest RMSE and highest R².\n",
    "- **Random Forest** is also a strong performer with competitive results.\n",
    "- **KNN** shows improvement but doesn't outperform ensemble models.\n",
    "- **Decision Tree** has the weakest performance, as expected."
   ]
  },
  {
   "cell_type": "markdown",
   "metadata": {},
   "source": [
    "### **SHAP**"
   ]
  },
  {
   "cell_type": "code",
   "execution_count": 4,
   "metadata": {},
   "outputs": [],
   "source": [
    "# Loading hyper tuned models\n",
    "hypertuned_xgboost_model = joblib.load(\"Xgboost hypertuned model.pkl\")\n",
    "hypertuned_random_forest_model = joblib.load(\"Random forest hypertuned model.pkl\")"
   ]
  },
  {
   "cell_type": "code",
   "execution_count": 5,
   "metadata": {},
   "outputs": [],
   "source": [
    "import shap\n",
    "\n",
    "explainer_xgb = shap.TreeExplainer(hypertuned_xgboost_model) \n",
    "explainer_rf = shap.TreeExplainer(hypertuned_random_forest_model)  "
   ]
  },
  {
   "cell_type": "code",
   "execution_count": 6,
   "metadata": {},
   "outputs": [],
   "source": [
    "xtest_dropped = pd.read_csv(\"xtest split_dropped_features.csv\")"
   ]
  },
  {
   "cell_type": "code",
   "execution_count": 7,
   "metadata": {},
   "outputs": [],
   "source": [
    "# Compute SHAP values for the test set\n",
    "shap_values_xgb = explainer_xgb.shap_values(xtest_dropped)\n",
    "shap_values_rf = explainer_rf.shap_values(xtest_dropped)"
   ]
  },
  {
   "cell_type": "code",
   "execution_count": 8,
   "metadata": {},
   "outputs": [
    {
     "data": {
      "image/png": "[encoded data removed]",
      "text/plain": [
       "<Figure size 800x270 with 2 Axes>"
      ]
     },
     "metadata": {},
     "output_type": "display_data"
    },
    {
     "data": {
      "image/png": "[encoded data removed]",
      "text/plain": [
       "<Figure size 800x270 with 2 Axes>"
      ]
     },
     "metadata": {},
     "output_type": "display_data"
    }
   ],
   "source": [
    "# XGBoost SHAP summary plot\n",
    "shap.summary_plot(shap_values_xgb, xtest_dropped)\n",
    "\n",
    "# Random Forest SHAP summary plot\n",
    "shap.summary_plot(shap_values_rf, xtest_dropped)"
   ]
  },
  {
   "cell_type": "code",
   "execution_count": 9,
   "metadata": {},
   "outputs": [
    {
     "ename": "ValueError",
     "evalue": "Could not find feature named: feature_name",
     "output_type": "error",
     "traceback": [
      "\u001b[1;31m---------------------------------------------------------------------------\u001b[0m",
      "\u001b[1;31mValueError\u001b[0m                                Traceback (most recent call last)",
      "Cell \u001b[1;32mIn[9], line 1\u001b[0m\n\u001b[1;32m----> 1\u001b[0m \u001b[43mshap\u001b[49m\u001b[38;5;241;43m.\u001b[39;49m\u001b[43mdependence_plot\u001b[49m\u001b[43m(\u001b[49m\u001b[38;5;124;43m\"\u001b[39;49m\u001b[38;5;124;43mfeature_name\u001b[39;49m\u001b[38;5;124;43m\"\u001b[39;49m\u001b[43m,\u001b[49m\u001b[43m \u001b[49m\u001b[43mshap_values_xgb\u001b[49m\u001b[43m,\u001b[49m\u001b[43m \u001b[49m\u001b[43mxtest_dropped\u001b[49m\u001b[43m)\u001b[49m\n",
      "File \u001b[1;32mc:\\Users\\BW\\Desktop\\ML project\\venv\\lib\\site-packages\\shap\\plots\\_scatter.py:570\u001b[0m, in \u001b[0;36mdependence_legacy\u001b[1;34m(ind, shap_values, features, feature_names, display_features, interaction_index, color, axis_color, cmap, dot_size, x_jitter, alpha, title, xmin, xmax, ax, show, ymin, ymax)\u001b[0m\n\u001b[0;32m    567\u001b[0m \u001b[38;5;28;01mif\u001b[39;00m \u001b[38;5;28mlen\u001b[39m(features\u001b[38;5;241m.\u001b[39mshape) \u001b[38;5;241m==\u001b[39m \u001b[38;5;241m1\u001b[39m:\n\u001b[0;32m    568\u001b[0m     features \u001b[38;5;241m=\u001b[39m np\u001b[38;5;241m.\u001b[39mreshape(features, (\u001b[38;5;28mlen\u001b[39m(features), \u001b[38;5;241m1\u001b[39m))\n\u001b[1;32m--> 570\u001b[0m ind \u001b[38;5;241m=\u001b[39m \u001b[43mconvert_name\u001b[49m\u001b[43m(\u001b[49m\u001b[43mind\u001b[49m\u001b[43m,\u001b[49m\u001b[43m \u001b[49m\u001b[43mshap_values\u001b[49m\u001b[43m,\u001b[49m\u001b[43m \u001b[49m\u001b[43mfeature_names\u001b[49m\u001b[43m)\u001b[49m\n\u001b[0;32m    572\u001b[0m \u001b[38;5;66;03m# guess what other feature as the stongest interaction with the plotted feature\u001b[39;00m\n\u001b[0;32m    573\u001b[0m \u001b[38;5;28;01mif\u001b[39;00m \u001b[38;5;129;01mnot\u001b[39;00m \u001b[38;5;28mhasattr\u001b[39m(ind, \u001b[38;5;124m\"\u001b[39m\u001b[38;5;124m__len__\u001b[39m\u001b[38;5;124m\"\u001b[39m):\n",
      "File \u001b[1;32mc:\\Users\\BW\\Desktop\\ML project\\venv\\lib\\site-packages\\shap\\utils\\_general.py:46\u001b[0m, in \u001b[0;36mconvert_name\u001b[1;34m(ind, shap_values, input_names)\u001b[0m\n\u001b[0;32m     44\u001b[0m         \u001b[38;5;28;01mreturn\u001b[39;00m \u001b[38;5;124m\"\u001b[39m\u001b[38;5;124msum()\u001b[39m\u001b[38;5;124m\"\u001b[39m\n\u001b[0;32m     45\u001b[0m     \u001b[38;5;28;01melse\u001b[39;00m:\n\u001b[1;32m---> 46\u001b[0m         \u001b[38;5;28;01mraise\u001b[39;00m \u001b[38;5;167;01mValueError\u001b[39;00m(\u001b[38;5;124m\"\u001b[39m\u001b[38;5;124mCould not find feature named: \u001b[39m\u001b[38;5;124m\"\u001b[39m \u001b[38;5;241m+\u001b[39m ind)\n\u001b[0;32m     47\u001b[0m \u001b[38;5;28;01melse\u001b[39;00m:\n\u001b[0;32m     48\u001b[0m     \u001b[38;5;28;01mreturn\u001b[39;00m nzinds[\u001b[38;5;241m0\u001b[39m]\n",
      "\u001b[1;31mValueError\u001b[0m: Could not find feature named: feature_name"
     ]
    }
   ],
   "source": [
    "shap.dependence_plot(\"feature_name\", shap_values_xgb, xtest_dropped)"
   ]
  },
  {
   "cell_type": "code",
   "execution_count": null,
   "metadata": {},
   "outputs": [],
   "source": [
    "# Pick a single instance (e.g., first row of xtest)\n",
    "shap.initjs()\n",
    "shap.force_plot(explainer_xgb.expected_value, shap_values_xgb[0, :], xtest_dropped_feat.iloc[0, :])"
   ]
  },
  {
   "cell_type": "code",
   "execution_count": null,
   "metadata": {},
   "outputs": [],
   "source": [
    "shap.decision_plot(explainer_xgb.expected_value, shap_values_xgb, xtest_dropped_feat)"
   ]
  }
 ],
 "metadata": {
  "kernelspec": {
   "display_name": "Python 3",
   "language": "python",
   "name": "python3"
  },
  "language_info": {
   "codemirror_mode": {
    "name": "ipython",
    "version": 3
   },
   "file_extension": ".py",
   "mimetype": "text/x-python",
   "name": "python",
   "nbconvert_exporter": "python",
   "pygments_lexer": "ipython3",
   "version": "3.8.0"
  }
 },
 "nbformat": 4,
 "nbformat_minor": 2
}
